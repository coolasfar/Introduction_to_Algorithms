{
 "cells": [
  {
   "cell_type": "markdown",
   "metadata": {},
   "source": [
    "## direct-addressing"
   ]
  },
  {
   "cell_type": "code",
   "execution_count": 2,
   "metadata": {},
   "outputs": [],
   "source": [
    "class Data:\n",
    "    def __init__(self,key):\n",
    "        self.key=key\n",
    "        \n",
    "class direct_address:\n",
    "    def search(self,T,k):\n",
    "        return T[k]\n",
    "    def insert(self,T,x):\n",
    "        value=Data(x)\n",
    "        T[value.key]=value\n",
    "    def delete(self,T,x):\n",
    "        value=Data(x)\n",
    "        T[value.key]=None"
   ]
  },
  {
   "cell_type": "markdown",
   "metadata": {},
   "source": [
    "## hash tables"
   ]
  },
  {
   "cell_type": "code",
   "execution_count": 27,
   "metadata": {},
   "outputs": [],
   "source": [
    "class HashTable:\n",
    "    def __init__(self,length):\n",
    "        self.table =[[] for _ in range(length)]\n",
    "    def hashing(self,key):\n",
    "        return key % len(self.table)\n",
    "    def insert(self,key,value):\n",
    "        keyValue=self.hashing(key)\n",
    "        self.table[keyValue].append(value)\n",
    "    def delete(self,key,value):\n",
    "        keyValue=self.hashing(key)\n",
    "        self.table[keyValue].remove(value)\n",
    "                \n",
    "    def display(self):\n",
    "        for i in range(len(self.table)):\n",
    "            print(i, end = \" \")\n",
    "\n",
    "            for j in self.table[i]:\n",
    "                print(\"-->\", end = \" \")\n",
    "                print(j, end = \" \")\n",
    "\n",
    "            print()"
   ]
  },
  {
   "cell_type": "code",
   "execution_count": 34,
   "metadata": {},
   "outputs": [
    {
     "name": "stdout",
     "output_type": "stream",
     "text": [
      "0 --> hao \n",
      "1 --> hi --> beijing \n",
      "2 --> world --> good \n",
      "3 \n",
      "4 \n",
      "5 --> shanghai \n",
      "6 \n",
      "7 \n",
      "8 \n",
      "************ after deletion **************\n",
      "0 \n",
      "1 --> hi --> beijing \n",
      "2 --> good \n",
      "3 \n",
      "4 \n",
      "5 --> shanghai \n",
      "6 \n",
      "7 \n",
      "8 \n"
     ]
    }
   ],
   "source": [
    "if __name__ == \"__main__\":\n",
    "    ht=HashTable(9)\n",
    "    ht.insert(10,\"hi\")\n",
    "    ht.insert(9,\"hao\")\n",
    "    ht.insert(20,\"world\")\n",
    "    ht.insert(19,\"beijing\")\n",
    "    ht.insert(32,\"shanghai\")\n",
    "    ht.insert(11,\"good\")\n",
    "    ht.display()\n",
    "    print(\"************ after deletion **************\")\n",
    "    ht.delete(20,\"world\")\n",
    "    ht.delete(9,\"hao\")\n",
    "    ht.display()"
   ]
  },
  {
   "cell_type": "code",
   "execution_count": 1,
   "metadata": {},
   "outputs": [
    {
     "ename": "SyntaxError",
     "evalue": "invalid syntax (<ipython-input-1-a0558764f997>, line 1)",
     "output_type": "error",
     "traceback": [
      "\u001b[0;36m  File \u001b[0;32m\"<ipython-input-1-a0558764f997>\"\u001b[0;36m, line \u001b[0;32m1\u001b[0m\n\u001b[0;31m    class OA\u001b[0m\n\u001b[0m            ^\u001b[0m\n\u001b[0;31mSyntaxError\u001b[0m\u001b[0;31m:\u001b[0m invalid syntax\n"
     ]
    }
   ],
   "source": [
    "class OA_hash:\n",
    "    def __init__(self,length):\n",
    "        self.table =[[] for _ in range(length)]\n",
    "    def h(self,k,i):\n",
    "        return (k+i)%len(self.table)\n",
    "    \n",
    "    def insert(self,T,k):\n",
    "        i=0\n",
    "        T=self.table\n",
    "        while i != len(T)-1:\n",
    "            j=self.h(k,i)\n",
    "            if T[j]=k:\n",
    "                return j\n",
    "            else:\n",
    "                i+=1\n",
    "        raise IndexError('hash table over flow')\n",
    "    def search(self,T,k):\n",
    "        i=0\n",
    "        T=self.table\n",
    "        whilec T[j] != None or i!= len(T)-1:\n",
    "            j=self.h(k,i)\n",
    "            if T[j] == k:\n",
    "                return j\n",
    "            "
   ]
  },
  {
   "cell_type": "code",
   "execution_count": null,
   "metadata": {},
   "outputs": [],
   "source": []
  }
 ],
 "metadata": {
  "kernelspec": {
   "display_name": "Python 3",
   "language": "python",
   "name": "python3"
  },
  "language_info": {
   "codemirror_mode": {
    "name": "ipython",
    "version": 3
   },
   "file_extension": ".py",
   "mimetype": "text/x-python",
   "name": "python",
   "nbconvert_exporter": "python",
   "pygments_lexer": "ipython3",
   "version": "3.6.3"
  }
 },
 "nbformat": 4,
 "nbformat_minor": 2
}
