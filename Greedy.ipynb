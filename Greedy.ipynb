{
 "cells": [
  {
   "cell_type": "markdown",
   "metadata": {},
   "source": [
    "## activity-selection problem\n",
    "\n",
    "|i   |1    |2    |3   |4     |5    |6   |7   |8    |9   |10    |11|\n",
    "|:---|:---:|:---:|:---:|:---:|:---:|:---:|:---:|:---:|:---:|:---:|---:|\n",
    "|s(i)|1    |3    |0   |5     |3    |5   |6   |8    |8   |2    |12|\n",
    "|f(i)|4    |5    |6   |7     |9    |9   |10   |11    |12   |14    |16|\n",
    "\n",
    "for example, the above table gives a time table of 11 activities and their start and finish time. That is , ai and aj are compatible if si>=fj  of sj>=fi. In this example,(a1,a4,a8,a11) is a largest subset of mutually compatible activities, another largest subset is (a2,a4,a9,a11)"
   ]
  },
  {
   "cell_type": "code",
   "execution_count": 19,
   "metadata": {},
   "outputs": [],
   "source": [
    "def greedy_activity_selector(s,f):\n",
    "    n=len(s)\n",
    "    res=[]\n",
    "    j=0\n",
    "    res.append(j+1)\n",
    "    for i in range(n):\n",
    "        if s[i] >= f[j]:\n",
    "            res.append(i+1)\n",
    "            j=i\n",
    "    return res\n",
    "        "
   ]
  },
  {
   "cell_type": "code",
   "execution_count": 20,
   "metadata": {},
   "outputs": [
    {
     "name": "stdout",
     "output_type": "stream",
     "text": [
      "[1, 4, 8, 11]\n"
     ]
    }
   ],
   "source": [
    "if __name__ == \"__main__\":\n",
    "    s=[1,3,0,5,3,5,6,8,8,2,12]\n",
    "    f=[4,5,6,7,9,9,10,11,12,14,16]\n",
    "    print(greedy_activity_selector(s,f))"
   ]
  },
  {
   "cell_type": "code",
   "execution_count": null,
   "metadata": {},
   "outputs": [],
   "source": []
  },
  {
   "cell_type": "code",
   "execution_count": null,
   "metadata": {},
   "outputs": [],
   "source": []
  }
 ],
 "metadata": {
  "kernelspec": {
   "display_name": "Python 3",
   "language": "python",
   "name": "python3"
  },
  "language_info": {
   "codemirror_mode": {
    "name": "ipython",
    "version": 3
   },
   "file_extension": ".py",
   "mimetype": "text/x-python",
   "name": "python",
   "nbconvert_exporter": "python",
   "pygments_lexer": "ipython3",
   "version": "3.8.5"
  }
 },
 "nbformat": 4,
 "nbformat_minor": 4
}
