{
 "cells": [
  {
   "cell_type": "markdown",
   "metadata": {},
   "source": [
    "## stack"
   ]
  },
  {
   "cell_type": "code",
   "execution_count": 29,
   "metadata": {},
   "outputs": [],
   "source": [
    "class Stack:\n",
    "    def __init__(self, length):\n",
    "        self.S = [None for _ in range(length)]\n",
    "        self.top = -1\n",
    "    def stack_empty(self):\n",
    "        if self.top == -1:\n",
    "            return True\n",
    "        else:\n",
    "            return False\n",
    "    def Push(self,x):\n",
    "        if self.top+1==len(self.S):\n",
    "            raise IndexError('stack overflow')\n",
    "        else:\n",
    "            self.top=self.top+1\n",
    "            self.S[self.top]=x\n",
    "    def Pop(self):\n",
    "        if self.stack_empty():\n",
    "            raise IndexError('stack underflow')\n",
    "        else:\n",
    "            self.top=self.top-1\n",
    "            return self.S[self.top+1]"
   ]
  },
  {
   "cell_type": "code",
   "execution_count": 30,
   "metadata": {},
   "outputs": [
    {
     "name": "stdout",
     "output_type": "stream",
     "text": [
      "<__main__.Stack object at 0x000001F4B5BDC490>\n",
      "Pop from the satck:  hi\n"
     ]
    }
   ],
   "source": [
    "if __name__ == \"__main__\":\n",
    "    s=Stack(10)\n",
    "    s.Push(2)\n",
    "    s.Push('hi')\n",
    "    print(s)\n",
    "    print(\"Pop from the satck: \",s.Pop())"
   ]
  },
  {
   "cell_type": "markdown",
   "metadata": {},
   "source": [
    "## queue"
   ]
  },
  {
   "cell_type": "code",
   "execution_count": 47,
   "metadata": {},
   "outputs": [],
   "source": [
    "class Queue:\n",
    "    def __init__(self,length):\n",
    "        self.Q = [None for _ in range(length)]\n",
    "        self.head = 0\n",
    "        self.tail = 0\n",
    "        self.maxIndex = length - 1\n",
    "    def Enqueue(self,x):\n",
    "        if self.head==self.tail and self.Q[self.head]:\n",
    "            raise IndexError('queue overflow.')\n",
    "        else:\n",
    "            self.Q[self.tail]=x\n",
    "            if self.tail == self.maxIndex:\n",
    "                self.tail=0\n",
    "            else:\n",
    "                self.tail+=1\n",
    "    def Dequeue(self):\n",
    "        if self.head==self.tail and (not self.Q[self.head]):\n",
    "            raise IndexError('queue underflow.')\n",
    "        else:\n",
    "            x=self.Q[self.head]\n",
    "            if self.head == self.maxIndex:\n",
    "                self.head=0\n",
    "            else:\n",
    "                self.head+=1\n",
    "        return x\n",
    "    def onlyOneElement(self):\n",
    "        return (self.tail - self.head == 1) or (self.tail == 0 and self.head == self.maxIndex)"
   ]
  },
  {
   "cell_type": "code",
   "execution_count": 32,
   "metadata": {},
   "outputs": [
    {
     "name": "stdout",
     "output_type": "stream",
     "text": [
      "Dequeue from queue:  1\n"
     ]
    }
   ],
   "source": [
    "if __name__ == \"__main__\":\n",
    "    q=Queue(10)\n",
    "    q.Enqueue(1)\n",
    "    q.Enqueue('hi')\n",
    "    print(\"Dequeue from queue: \",q.Dequeue())"
   ]
  },
  {
   "cell_type": "markdown",
   "metadata": {},
   "source": [
    "## implement a queue using two stacks"
   ]
  },
  {
   "cell_type": "code",
   "execution_count": 43,
   "metadata": {},
   "outputs": [],
   "source": [
    "\n",
    "class queue:\n",
    "    def __init__(self,length):\n",
    "        self.stack1=Stack(length)\n",
    "        self.stack2=Stack(length)\n",
    "    def enqueue(self,x):\n",
    "        try:\n",
    "            self.stack1.Push(x)\n",
    "        except IndexError:\n",
    "            raise IndexError('queue overflow.')\n",
    "    def dequeue(self):\n",
    "        while self.stack1.top>0:\n",
    "            self.stack2.Push(self.stack1.Pop())\n",
    "        try:\n",
    "            x=self.stack1.Pop()\n",
    "        except IndexError:\n",
    "            raise IndexError('queue underflow.')\n",
    "        while not self.stack2.stack_empty():\n",
    "            self.stack1.Push(self.stack2.Pop())\n",
    "        return x\n",
    "    "
   ]
  },
  {
   "cell_type": "code",
   "execution_count": 46,
   "metadata": {},
   "outputs": [
    {
     "name": "stdout",
     "output_type": "stream",
     "text": [
      "Dequeue from queue:  1\n",
      "Dequeue from queue:  2\n"
     ]
    }
   ],
   "source": [
    "if __name__ == \"__main__\":\n",
    "    s1=Stack(5)\n",
    "    s2=Stack(5)\n",
    "    q=queue(5)\n",
    "    \n",
    "    q.enqueue(1)\n",
    "    q.enqueue(2)\n",
    "    q.enqueue('hi')\n",
    "    print(\"Dequeue from queue: \",q.dequeue())\n",
    "    print(\"Dequeue from queue: \",q.dequeue())"
   ]
  },
  {
   "cell_type": "markdown",
   "metadata": {},
   "source": [
    "## implement a stack using two queues"
   ]
  },
  {
   "cell_type": "code",
   "execution_count": 49,
   "metadata": {},
   "outputs": [],
   "source": [
    "class stack:\n",
    "    def __init__(self,length):\n",
    "        self.queue1=Queue(length)\n",
    "        sefl.queue2=Queue(length)\n",
    "        self.Queue1Push = True\n",
    "    def push(self,x):\n",
    "        try:\n",
    "            if self.Queue1Push:\n",
    "                self.queue1.Enqueue(x)\n",
    "            else:\n",
    "                self.queue2.Enqueue(x)\n",
    "        except IndexError:\n",
    "            raise IndexError('stack overflow.')\n",
    "            \n",
    "    def pop(self):\n",
    "        try:\n",
    "            if self.Queue1Push:\n",
    "                while not self.queue1.onlyOneElement():\n",
    "                    self.queue2.Enqueue(self.queue1.Dequeue())\n",
    "                x=self.queue1.Dequeue()\n",
    "            else:\n",
    "                while not self.queue2.onlyOneElement():\n",
    "                    self.queue1.Enqueue(self.queue2.Dequeue())\n",
    "                x=self.queue2.Dequeue()\n",
    "        except IndexError:\n",
    "            raise IndexError('stack underflow.')\n",
    "            \n",
    "        self.Queue1Push = not self.Queue1Push\n",
    "        return x\n",
    "                "
   ]
  },
  {
   "cell_type": "code",
   "execution_count": null,
   "metadata": {},
   "outputs": [],
   "source": [
    "if __name__ == \"__main__\":\n",
    "    q1=Queue(10)\n",
    "    q2=Queue(10)\n",
    "    s=stack(10)\n",
    "    s.Push('hi')\n",
    "    print(s)\n",
    "    print(\"Pop from the satck: \",s.Pop())"
   ]
  }
 ],
 "metadata": {
  "kernelspec": {
   "display_name": "Python 3",
   "language": "python",
   "name": "python3"
  },
  "language_info": {
   "codemirror_mode": {
    "name": "ipython",
    "version": 3
   },
   "file_extension": ".py",
   "mimetype": "text/x-python",
   "name": "python",
   "nbconvert_exporter": "python",
   "pygments_lexer": "ipython3",
   "version": "3.8.5"
  }
 },
 "nbformat": 4,
 "nbformat_minor": 4
}
