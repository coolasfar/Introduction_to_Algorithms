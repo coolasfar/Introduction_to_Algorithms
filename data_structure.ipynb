{
 "cells": [
  {
   "cell_type": "code",
   "execution_count": 6,
   "metadata": {},
   "outputs": [],
   "source": [
    "class Stack:\n",
    "    def __init__(self, length):\n",
    "        self.S = [None for _ in range(length)]\n",
    "        self.top = -1\n",
    "    def stack_empty(self):\n",
    "        if self.top == -1:\n",
    "            return True\n",
    "        else:\n",
    "            return False\n",
    "    def push(self,x):\n",
    "        if self.top+1==len(self.S):\n",
    "            raise IndexError('stack overflow')\n",
    "        else:\n",
    "            self.top=self.top+1\n",
    "            self.S[self.top]=x\n",
    "    def pop(self):\n",
    "        if self.stack_empty():\n",
    "            raise IndexError('stack underflow')\n",
    "        else:\n",
    "            self.top=self.top-1\n",
    "            return self.S[self.top+1]"
   ]
  },
  {
   "cell_type": "code",
   "execution_count": 12,
   "metadata": {},
   "outputs": [
    {
     "name": "stdout",
     "output_type": "stream",
     "text": [
      "<__main__.Stack object at 0x000001F4B5BDC130>\n",
      "Pop from the satck:  hi\n"
     ]
    }
   ],
   "source": [
    "if __name__ == \"__main__\":\n",
    "    s=Stack(10)\n",
    "    s.push(2)\n",
    "    s.push('hi')\n",
    "    print(s)\n",
    "    print(\"Pop from the satck: \",s.pop())"
   ]
  },
  {
   "cell_type": "code",
   "execution_count": null,
   "metadata": {},
   "outputs": [],
   "source": []
  }
 ],
 "metadata": {
  "kernelspec": {
   "display_name": "Python 3",
   "language": "python",
   "name": "python3"
  },
  "language_info": {
   "codemirror_mode": {
    "name": "ipython",
    "version": 3
   },
   "file_extension": ".py",
   "mimetype": "text/x-python",
   "name": "python",
   "nbconvert_exporter": "python",
   "pygments_lexer": "ipython3",
   "version": "3.8.5"
  }
 },
 "nbformat": 4,
 "nbformat_minor": 4
}
