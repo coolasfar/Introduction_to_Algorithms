{
 "cells": [
  {
   "cell_type": "markdown",
   "metadata": {},
   "source": [
    "## stack"
   ]
  },
  {
   "cell_type": "code",
   "execution_count": 29,
   "metadata": {},
   "outputs": [],
   "source": [
    "class Stack:\n",
    "    def __init__(self, length):\n",
    "        self.S = [None for _ in range(length)]\n",
    "        self.top = -1\n",
    "    def stack_empty(self):\n",
    "        if self.top == -1:\n",
    "            return True\n",
    "        else:\n",
    "            return False\n",
    "    def Push(self,x):\n",
    "        if self.top+1==len(self.S):\n",
    "            raise IndexError('stack overflow')\n",
    "        else:\n",
    "            self.top=self.top+1\n",
    "            self.S[self.top]=x\n",
    "    def Pop(self):\n",
    "        if self.stack_empty():\n",
    "            raise IndexError('stack underflow')\n",
    "        else:\n",
    "            self.top=self.top-1\n",
    "            return self.S[self.top+1]"
   ]
  },
  {
   "cell_type": "code",
   "execution_count": 30,
   "metadata": {},
   "outputs": [
    {
     "name": "stdout",
     "output_type": "stream",
     "text": [
      "<__main__.Stack object at 0x000001F4B5BDC490>\n",
      "Pop from the satck:  hi\n"
     ]
    }
   ],
   "source": [
    "if __name__ == \"__main__\":\n",
    "    s=Stack(10)\n",
    "    s.Push(2)\n",
    "    s.Push('hi')\n",
    "    print(s)\n",
    "    print(\"Pop from the satck: \",s.Pop())"
   ]
  },
  {
   "cell_type": "markdown",
   "metadata": {},
   "source": [
    "## queue"
   ]
  },
  {
   "cell_type": "code",
   "execution_count": 47,
   "metadata": {},
   "outputs": [],
   "source": [
    "class Queue:\n",
    "    def __init__(self,length):\n",
    "        self.Q = [None for _ in range(length)]\n",
    "        self.head = 0\n",
    "        self.tail = 0\n",
    "        self.maxIndex = length - 1\n",
    "    def Enqueue(self,x):\n",
    "        if self.head==self.tail and self.Q[self.head]:\n",
    "            raise IndexError('queue overflow.')\n",
    "        else:\n",
    "            self.Q[self.tail]=x\n",
    "            if self.tail == self.maxIndex:\n",
    "                self.tail=0\n",
    "            else:\n",
    "                self.tail+=1\n",
    "    def Dequeue(self):\n",
    "        if self.head==self.tail and (not self.Q[self.head]):\n",
    "            raise IndexError('queue underflow.')\n",
    "        else:\n",
    "            x=self.Q[self.head]\n",
    "            if self.head == self.maxIndex:\n",
    "                self.head=0\n",
    "            else:\n",
    "                self.head+=1\n",
    "        return x\n",
    "    def onlyOneElement(self):\n",
    "        return (self.tail - self.head == 1) or (self.tail == 0 and self.head == self.maxIndex)"
   ]
  },
  {
   "cell_type": "code",
   "execution_count": 32,
   "metadata": {},
   "outputs": [
    {
     "name": "stdout",
     "output_type": "stream",
     "text": [
      "Dequeue from queue:  1\n"
     ]
    }
   ],
   "source": [
    "if __name__ == \"__main__\":\n",
    "    q=Queue(10)\n",
    "    q.Enqueue(1)\n",
    "    q.Enqueue('hi')\n",
    "    print(\"Dequeue from queue: \",q.Dequeue())"
   ]
  },
  {
   "cell_type": "markdown",
   "metadata": {},
   "source": [
    "## implement a queue using two stacks"
   ]
  },
  {
   "cell_type": "code",
   "execution_count": 43,
   "metadata": {},
   "outputs": [],
   "source": [
    "\n",
    "class queue:\n",
    "    def __init__(self,length):\n",
    "        self.stack1=Stack(length)\n",
    "        self.stack2=Stack(length)\n",
    "    def enqueue(self,x):\n",
    "        try:\n",
    "            self.stack1.Push(x)\n",
    "        except IndexError:\n",
    "            raise IndexError('queue overflow.')\n",
    "    def dequeue(self):\n",
    "        while self.stack1.top>0:\n",
    "            self.stack2.Push(self.stack1.Pop())\n",
    "        try:\n",
    "            x=self.stack1.Pop()\n",
    "        except IndexError:\n",
    "            raise IndexError('queue underflow.')\n",
    "        while not self.stack2.stack_empty():\n",
    "            self.stack1.Push(self.stack2.Pop())\n",
    "        return x\n",
    "    "
   ]
  },
  {
   "cell_type": "code",
   "execution_count": 46,
   "metadata": {},
   "outputs": [
    {
     "name": "stdout",
     "output_type": "stream",
     "text": [
      "Dequeue from queue:  1\n",
      "Dequeue from queue:  2\n"
     ]
    }
   ],
   "source": [
    "if __name__ == \"__main__\":\n",
    "    s1=Stack(5)\n",
    "    s2=Stack(5)\n",
    "    q=queue(5)\n",
    "    \n",
    "    q.enqueue(1)\n",
    "    q.enqueue(2)\n",
    "    q.enqueue('hi')\n",
    "    print(\"Dequeue from queue: \",q.dequeue())\n",
    "    print(\"Dequeue from queue: \",q.dequeue())"
   ]
  },
  {
   "cell_type": "markdown",
   "metadata": {},
   "source": [
    "## implement a stack using two queues"
   ]
  },
  {
   "cell_type": "code",
   "execution_count": 51,
   "metadata": {},
   "outputs": [],
   "source": [
    "class stack:\n",
    "    def __init__(self,length):\n",
    "        self.queue1=Queue(length)\n",
    "        self.queue2=Queue(length)\n",
    "        self.Queue1Push = True\n",
    "    def push(self,x):\n",
    "        try:\n",
    "            if self.Queue1Push:\n",
    "                self.queue1.Enqueue(x)\n",
    "            else:\n",
    "                self.queue2.Enqueue(x)\n",
    "        except IndexError:\n",
    "            raise IndexError('stack overflow.')\n",
    "            \n",
    "    def pop(self):\n",
    "        try:\n",
    "            if self.Queue1Push:\n",
    "                while not self.queue1.onlyOneElement():\n",
    "                    self.queue2.Enqueue(self.queue1.Dequeue())\n",
    "                x=self.queue1.Dequeue()\n",
    "            else:\n",
    "                while not self.queue2.onlyOneElement():\n",
    "                    self.queue1.Enqueue(self.queue2.Dequeue())\n",
    "                x=self.queue2.Dequeue()\n",
    "        except IndexError:\n",
    "            raise IndexError('stack underflow.')\n",
    "            \n",
    "        self.Queue1Push = not self.Queue1Push\n",
    "        return x\n",
    "                "
   ]
  },
  {
   "cell_type": "code",
   "execution_count": 54,
   "metadata": {},
   "outputs": [
    {
     "name": "stdout",
     "output_type": "stream",
     "text": [
      "Pop from the satck:  hi\n"
     ]
    }
   ],
   "source": [
    "if __name__ == \"__main__\":\n",
    "    q1=Queue(10)\n",
    "    q2=Queue(10)\n",
    "    s=stack(10)\n",
    "    s.push(1)\n",
    "    s.push('hi')\n",
    "\n",
    "    print(\"Pop from the satck: \",s.pop())"
   ]
  },
  {
   "cell_type": "markdown",
   "metadata": {},
   "source": [
    "## linked list"
   ]
  },
  {
   "cell_type": "code",
   "execution_count": 1,
   "metadata": {},
   "outputs": [],
   "source": [
    "## single linkedlist\n",
    "class Node:\n",
    "    def __init__(self,data):\n",
    "        self.data=data\n",
    "        self.next=None\n",
    "class singleLinkedList:\n",
    "    def __init__(self):\n",
    "        self.head=None\n",
    "    def traverse_list(self):\n",
    "        ll=[]\n",
    "        if self.head is None:\n",
    "            print(\"Linked list is empty\")\n",
    "            return\n",
    "        else:\n",
    "            n=self.head\n",
    "            while n is not None:\n",
    "                ll.append(n.data)\n",
    "                n=n.next\n",
    "                \n",
    "        return ('->'.join(str(v) for v in ll))\n",
    "    \n",
    "    def insert_at_front(self,data):\n",
    "        new_node=Node(data)\n",
    "        new_node.next=self.head\n",
    "        self.head=new_node\n",
    "    def insert_at_end(self,data):\n",
    "        new_node=Node(data)\n",
    "        if self.head is None:\n",
    "            self.head=new_node\n",
    "            return \n",
    "        n=self.head\n",
    "        while n.next is not None:\n",
    "            n=n.next\n",
    "        n.next=new_node\n",
    "    def search(self,x):\n",
    "        n=self.head\n",
    "        while n is not None:\n",
    "            if n.data==x:\n",
    "                print(\"item found\")\n",
    "                return True\n",
    "            n=n.next\n",
    "        print(\"item not found\")\n",
    "        return False\n",
    "    def delete_at_end(self):\n",
    "        n=self.head\n",
    "        while n.next.next is not None:\n",
    "            n=n.next\n",
    "        n.next=None\n",
    "    def delete_at_front(self):\n",
    "        self.head=self.head.next\n",
    "    \n",
    "    def reverse(self):\n",
    "        prev=None\n",
    "        current=self.head\n",
    "        while current is not None:\n",
    "            next_node=current.next\n",
    "            current.next=prev\n",
    "            prev=current\n",
    "            current=next_node\n",
    "        self.head=prev"
   ]
  },
  {
   "cell_type": "code",
   "execution_count": 127,
   "metadata": {},
   "outputs": [
    {
     "name": "stdout",
     "output_type": "stream",
     "text": [
      "after insertion:  3->2->1->4\n",
      "reversed:  4->1->2->3\n",
      "delete from the end:  4->1->2\n",
      "delete at the start:  1->2\n"
     ]
    }
   ],
   "source": [
    "if __name__ == \"__main__\":\n",
    "    sll=singleLinkedList()\n",
    "    sll.insert_at_front(1)\n",
    "    sll.insert_at_front(2)\n",
    "    sll.insert_at_front(3)\n",
    "    sll.insert_at_end(4)\n",
    "    print(\"after insertion: \",sll.traverse_list())\n",
    "    sll.reverse()\n",
    "    print(\"reversed: \",sll.traverse_list())\n",
    "    sll.delete_at_end()\n",
    "    print(\"delete from the end: \",sll.traverse_list())\n",
    "    sll.delete_at_front()\n",
    "    print(\"delete at the start: \",sll.traverse_list())\n",
    "    \n",
    "    "
   ]
  },
  {
   "cell_type": "code",
   "execution_count": 118,
   "metadata": {},
   "outputs": [],
   "source": [
    "class Node(object):\n",
    "    def __init__(self,data):\n",
    "        self.data=data\n",
    "        self.prev=None\n",
    "        self.next=None\n",
    "class doublyLinkedList(object):\n",
    "    def __init__(self):\n",
    "        self.head=None\n",
    "    \n",
    "    def insert_at_front(self,x):\n",
    "        new_node=Node(x)\n",
    "        new_node.next=self.head\n",
    "        if self.head is not None:\n",
    "            self.head.prev=new_node\n",
    "        self.head=new_node\n",
    "        new_node.prev=None\n",
    "        \n",
    "    def insert_at_end(self,x):\n",
    "        new_node=Node(x)\n",
    "        if self.head == None:\n",
    "            self.head=new_node\n",
    "            return\n",
    "        n=self.head\n",
    "        while n.next is not None:\n",
    "            n=n.next\n",
    "        n.next=new_node\n",
    "        \n",
    "    def search(self, x):\n",
    "        node = self.head\n",
    "\n",
    "        while node is not None and node.data != x:\n",
    "            node = node.next\n",
    "\n",
    "        return node\n",
    "    \n",
    "    def list_delete(self,x):\n",
    "        node = self.search(x)\n",
    "\n",
    "        if node is None:\n",
    "            raise Exception('The specified key does not exist')\n",
    "\n",
    "        if node == self.head:\n",
    "            self.head = node.next\n",
    "\n",
    "            if node.next is not None:\n",
    "                node.next.prev = None\n",
    "        else:\n",
    "            node.prev.next = node.next\n",
    "\n",
    "            if node.next is not None:\n",
    "                node.next.prev = node.prev\n",
    "    \n",
    "    def traverse_list(self):\n",
    "        ll=[]\n",
    "        if self.head is None:\n",
    "            print(\"Linked list is empty\")\n",
    "            return\n",
    "        else:\n",
    "            n=self.head\n",
    "            while n is not None:\n",
    "                ll.append(n.data)\n",
    "                n=n.next\n",
    "                \n",
    "        return ('->'.join(str(v) for v in ll))\n",
    "        \n"
   ]
  },
  {
   "cell_type": "code",
   "execution_count": 122,
   "metadata": {},
   "outputs": [
    {
     "name": "stdout",
     "output_type": "stream",
     "text": [
      "after insertion:  3->2->1->2\n",
      "after delete 3:  2->1->2\n"
     ]
    }
   ],
   "source": [
    "if __name__ == \"__main__\":\n",
    "    dll=doublyLinkedList()\n",
    "    dll.insert_at_front(1)\n",
    "    dll.insert_at_front(2)\n",
    "    dll.insert_at_front(3)\n",
    "    dll.insert_at_end(2)\n",
    "    print(\"after insertion: \",dll.traverse_list())\n",
    "    dll.search(3)\n",
    "    \n",
    "    dll.list_delete(3)\n",
    "    print(\"after delete 3: \",dll.traverse_list())\n"
   ]
  },
  {
   "cell_type": "markdown",
   "metadata": {},
   "source": [
    "## implement a stack using singly linked list"
   ]
  },
  {
   "cell_type": "code",
   "execution_count": 11,
   "metadata": {},
   "outputs": [],
   "source": [
    "class stack_by_ll:\n",
    "    def is_empty(self,L):\n",
    "        if L.head == None:\n",
    "            return True\n",
    "        else:\n",
    "            return False\n",
    "    \n",
    "    def push(self,L,x):\n",
    "        new_node=Node(x)\n",
    "        new_node.next=L.head\n",
    "        L.head=new_node\n",
    "    def pop(self,L):\n",
    "        if self.is_empty(L):\n",
    "            raise IndexError('stack underflow.')\n",
    "        else:\n",
    "            x=L.head\n",
    "            L.head=L.head.next\n",
    "            return x\n",
    "    def traverse(self,L):\n",
    "        ll=[]\n",
    "        if L.head is None:\n",
    "            print(\"Linked list is empty\")\n",
    "            return\n",
    "        else:\n",
    "            n=L.head\n",
    "            while n is not None:\n",
    "                ll.append(n.data)\n",
    "                n=n.next\n",
    "                \n",
    "        return ('->'.join(str(v) for v in ll))"
   ]
  },
  {
   "cell_type": "code",
   "execution_count": 15,
   "metadata": {},
   "outputs": [
    {
     "name": "stdout",
     "output_type": "stream",
     "text": [
      "After pushing:  4->3->2\n",
      "Äfter poping:  3->2\n"
     ]
    }
   ],
   "source": [
    "if __name__ == \"__main__\":\n",
    "    sll=singleLinkedList()\n",
    "    s=stack_by_ll()\n",
    "    s.push(sll,2)\n",
    "    s.push(sll,3)\n",
    "    s.push(sll,4)\n",
    "    print(\"After pushing: \",s.traverse(sll))\n",
    "    s.pop(sll)\n",
    "    print(\"Äfter poping: \",s.traverse(sll))"
   ]
  },
  {
   "cell_type": "markdown",
   "metadata": {},
   "source": [
    "## implement a queue using singly linked list"
   ]
  },
  {
   "cell_type": "code",
   "execution_count": 21,
   "metadata": {},
   "outputs": [],
   "source": [
    "class queue_by_ll:\n",
    "    def is_empty(self,L):\n",
    "        if L.head == None:\n",
    "            return True\n",
    "        else:\n",
    "            return False\n",
    "    def enqueue(self,L,x):\n",
    "        new_node=Node(x)\n",
    "        if L.head is None:\n",
    "            L.head=new_node\n",
    "            return \n",
    "        n=L.head\n",
    "        while n.next is not None:\n",
    "            n=n.next\n",
    "        n.next=new_node\n",
    "    def dequeue(self,L):\n",
    "        if self.is_empty(L):\n",
    "            raise IndexError('stack underflow.')\n",
    "        else:\n",
    "            x=L.head\n",
    "            L.head=L.head.next\n",
    "            return x\n",
    "    def traverse(self,L):\n",
    "        ll=[]\n",
    "        if L.head is None:\n",
    "            print(\"Linked list is empty\")\n",
    "            return\n",
    "        else:\n",
    "            n=L.head\n",
    "            while n is not None:\n",
    "                ll.append(n.data)\n",
    "                n=n.next\n",
    "                \n",
    "        return ('->'.join(str(v) for v in ll))"
   ]
  },
  {
   "cell_type": "code",
   "execution_count": 22,
   "metadata": {},
   "outputs": [
    {
     "name": "stdout",
     "output_type": "stream",
     "text": [
      "After enqueue:  2->3->4\n",
      "After dequeue:  3->4\n"
     ]
    }
   ],
   "source": [
    "if __name__ == \"__main__\":\n",
    "    sll=singleLinkedList()\n",
    "    q=queue_by_ll()\n",
    "    q.enqueue(sll,2)\n",
    "    q.enqueue(sll,3)\n",
    "    q.enqueue(sll,4)\n",
    "    print(\"After enqueue: \",q.traverse(sll))\n",
    "    q.dequeue(sll)\n",
    "    print(\"After dequeue: \",q.traverse(sll))"
   ]
  },
  {
   "cell_type": "code",
   "execution_count": null,
   "metadata": {},
   "outputs": [],
   "source": []
  }
 ],
 "metadata": {
  "kernelspec": {
   "display_name": "Python 3",
   "language": "python",
   "name": "python3"
  },
  "language_info": {
   "codemirror_mode": {
    "name": "ipython",
    "version": 3
   },
   "file_extension": ".py",
   "mimetype": "text/x-python",
   "name": "python",
   "nbconvert_exporter": "python",
   "pygments_lexer": "ipython3",
   "version": "3.8.5"
  }
 },
 "nbformat": 4,
 "nbformat_minor": 4
}
