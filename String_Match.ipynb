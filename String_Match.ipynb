{
 "cells": [
  {
   "cell_type": "markdown",
   "metadata": {},
   "source": [
    "## The Knuth-Morris-Pratt algorithm"
   ]
  },
  {
   "cell_type": "code",
   "execution_count": 7,
   "metadata": {},
   "outputs": [],
   "source": [
    "def prefix(P):\n",
    "    m=len(P)\n",
    "    pi=[0 for _ in range(m)]\n",
    "    pi[0]=0\n",
    "    k=0\n",
    "    for q in range(1,m):\n",
    "        while k>0 and P[k] != P[q]:\n",
    "            k=pi[k]\n",
    "        if P[k]==P[q]:\n",
    "            k+=1\n",
    "        pi[q]=k\n",
    "    return pi"
   ]
  },
  {
   "cell_type": "code",
   "execution_count": 8,
   "metadata": {},
   "outputs": [
    {
     "name": "stdout",
     "output_type": "stream",
     "text": [
      "[0, 0, 1, 2, 3, 0, 1]\n"
     ]
    }
   ],
   "source": [
    "P='ababaca'\n",
    "print(prefix(P))"
   ]
  },
  {
   "cell_type": "code",
   "execution_count": 9,
   "metadata": {},
   "outputs": [],
   "source": [
    "def KMP(T,P):\n",
    "    n=len(T)\n",
    "    m=len(P)\n",
    "    pi=prefix(P)\n",
    "    q=0\n",
    "    for i in range(n):\n",
    "        while q>0 and P[q] != T[i]:\n",
    "            q=pi[q]\n",
    "        if P[q]==T[i]:\n",
    "            q+=1\n",
    "        if q==m:\n",
    "            print (\"pattern occurs with shift \",i-m)\n",
    "            q=pi[q]"
   ]
  },
  {
   "cell_type": "code",
   "execution_count": null,
   "metadata": {},
   "outputs": [],
   "source": [
    "T='bacbababa'"
   ]
  }
 ],
 "metadata": {
  "kernelspec": {
   "display_name": "Python 3",
   "language": "python",
   "name": "python3"
  },
  "language_info": {
   "codemirror_mode": {
    "name": "ipython",
    "version": 3
   },
   "file_extension": ".py",
   "mimetype": "text/x-python",
   "name": "python",
   "nbconvert_exporter": "python",
   "pygments_lexer": "ipython3",
   "version": "3.6.3"
  }
 },
 "nbformat": 4,
 "nbformat_minor": 2
}
