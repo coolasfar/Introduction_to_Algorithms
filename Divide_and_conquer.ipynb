{
 "cells": [
  {
   "cell_type": "code",
   "execution_count": 1,
   "metadata": {},
   "outputs": [],
   "source": [
    "#the maximum subarray (crossing)\n",
    "def find_max_crossing(A,low,mid,high):\n",
    "    #find the maximum left subarray\n",
    "    left_sum=float('-inf')\n",
    "    s=0\n",
    "    max_left=0\n",
    "    for i in range(mid,low,-1):\n",
    "        s+=A[i]\n",
    "        if s > left_sum:\n",
    "            left_sum=s\n",
    "            max_left=i\n",
    "            \n",
    "    #find the maximum right subarrary\n",
    "    right_sum=float('-inf')\n",
    "    s=0\n",
    "    max_right=0\n",
    "    for j in range(mid+1,high):\n",
    "        s+=A[j]\n",
    "        if s > right_sum:\n",
    "            right_sum = s\n",
    "            max_right=j\n",
    "    \n",
    "    return max_left,max_right,left_sum+right_sum"
   ]
  },
  {
   "cell_type": "code",
   "execution_count": 2,
   "metadata": {},
   "outputs": [],
   "source": [
    "#the maximum subarray\n",
    "def find_max_subarray(A,low,high):\n",
    "    if high==low:\n",
    "        return low,high,A[low]\n",
    "    else:\n",
    "        mid=(low+high)//2\n",
    "        left_low,left_high,left_sum=find_max_subarray(A,low,mid)\n",
    "        \n",
    "        right_low,right_high,right_sum=find_max_subarray(A,mid+1,high)\n",
    "        \n",
    "        cross_low,cross_high,cross_sum=find_max_crossing(A,low,mid,high)\n",
    "        \n",
    "        if left_sum >=right_sum and left_sum >= cross_sum:\n",
    "            return left_low,left_high,left_sum\n",
    "        elif right_sum >= left_sum and right_sum >= cross_sum:\n",
    "            return right_low,right_high,right_sum\n",
    "        else:\n",
    "            return cross_low,cross_high,cross_sum"
   ]
  },
  {
   "cell_type": "code",
   "execution_count": 3,
   "metadata": {},
   "outputs": [
    {
     "data": {
      "text/plain": [
       "(7, 10, 43)"
      ]
     },
     "execution_count": 3,
     "metadata": {},
     "output_type": "execute_result"
    }
   ],
   "source": [
    "A=[13,-3,-25,20,-3,-16,-23,18,20,-7,12,-5,-22,15,-4,7]\n",
    "find_max_subarray(A,0,len(A)-1)"
   ]
  },
  {
   "cell_type": "code",
   "execution_count": null,
   "metadata": {},
   "outputs": [],
   "source": []
  }
 ],
 "metadata": {
  "kernelspec": {
   "display_name": "Python 3",
   "language": "python",
   "name": "python3"
  },
  "language_info": {
   "codemirror_mode": {
    "name": "ipython",
    "version": 3
   },
   "file_extension": ".py",
   "mimetype": "text/x-python",
   "name": "python",
   "nbconvert_exporter": "python",
   "pygments_lexer": "ipython3",
   "version": "3.6.3"
  }
 },
 "nbformat": 4,
 "nbformat_minor": 2
}
