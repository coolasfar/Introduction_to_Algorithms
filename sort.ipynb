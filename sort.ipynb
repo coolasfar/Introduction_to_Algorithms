{
 "cells": [
  {
   "cell_type": "markdown",
   "metadata": {},
   "source": [
    "1. insertion\n",
    "2. selection\n",
    "3. bubble\n",
    "4. merge\n",
    "5. heap\n",
    "6. quick sort"
   ]
  },
  {
   "cell_type": "markdown",
   "metadata": {},
   "source": [
    "# Algorithms for sorting"
   ]
  },
  {
   "cell_type": "markdown",
   "metadata": {},
   "source": [
    "## insertion sort"
   ]
  },
  {
   "cell_type": "code",
   "execution_count": 2,
   "metadata": {},
   "outputs": [],
   "source": [
    "def insert_sort(A):\n",
    "    length=len(A)\n",
    "    for j in range(1,length):\n",
    "        key=A[j]\n",
    "        i=j-1\n",
    "        while i>-1 and A[i]>key:\n",
    "            A[i+1]=A[i]\n",
    "            i=i-1\n",
    "        A[i+1]=key\n",
    "        print (j,\": \",A)\n",
    "    return A"
   ]
  },
  {
   "cell_type": "code",
   "execution_count": 3,
   "metadata": {},
   "outputs": [
    {
     "name": "stdout",
     "output_type": "stream",
     "text": [
      "1 :  [31, 41, 59, 26, 41, 58]\n",
      "2 :  [31, 41, 59, 26, 41, 58]\n",
      "3 :  [26, 31, 41, 59, 41, 58]\n",
      "4 :  [26, 31, 41, 41, 59, 58]\n",
      "5 :  [26, 31, 41, 41, 58, 59]\n"
     ]
    },
    {
     "data": {
      "text/plain": [
       "[26, 31, 41, 41, 58, 59]"
      ]
     },
     "execution_count": 3,
     "metadata": {},
     "output_type": "execute_result"
    }
   ],
   "source": [
    "l=[31,41,59,26,41,58]\n",
    "insert_sort(l)"
   ]
  },
  {
   "cell_type": "markdown",
   "metadata": {},
   "source": [
    "insertion sort analysis-time complexity\n",
    "assume array has n elements\n",
    "```python\n",
    "def insert_sort(A):                             cost   times\n",
    "    length=len(A)               \n",
    "    for j in range(1,length):           -->     c1      n    \n",
    "        key=A[j]                        -->     c2      n-1\n",
    "        i=j-1                           -->     c3      n-1\n",
    "        while i>-1 and A[i]>key:        -->     c4      `$\\sum_{j = 1}^{n} t(j)$`\n",
    "            A[i+1]=A[i]                 -->     c5      `$\\sum_{j = 1}^{n} t(j)-1$`\n",
    "            i=i-1                       -->     c6      `$\\sum_{j = 1}^{n} t(j)-1$`\n",
    "        A[i+1]=key                      -->     c7      n-1\n",
    "\n",
    "    return A\n",
    "```\n",
    "Total time: T(n) =c1n+c2(n-1)+c3(n-1)+c4(n(n+1)/2 -1)+(c5+c6)(n(n-1)/2)+c7(n-1) = $an^{2} + bn + c$\n"
   ]
  },
  {
   "cell_type": "code",
   "execution_count": 66,
   "metadata": {},
   "outputs": [],
   "source": [
    "def reverse_insert(A):\n",
    "    length=len(A)\n",
    "    for j in range(1,length):\n",
    "        k=A[j]\n",
    "        i=j-1\n",
    "        while i>-1 and k>A[i]:\n",
    "            A[i+1]=A[i]\n",
    "            i=i-1\n",
    "        A[i+1]=k\n",
    "    return A"
   ]
  },
  {
   "cell_type": "code",
   "execution_count": 67,
   "metadata": {},
   "outputs": [
    {
     "data": {
      "text/plain": [
       "[59, 58, 41, 41, 31, 26]"
      ]
     },
     "execution_count": 67,
     "metadata": {},
     "output_type": "execute_result"
    }
   ],
   "source": [
    "reverse_insert(l)"
   ]
  },
  {
   "cell_type": "markdown",
   "metadata": {},
   "source": [
    "## selection sort"
   ]
  },
  {
   "cell_type": "code",
   "execution_count": 72,
   "metadata": {},
   "outputs": [],
   "source": [
    "def selection(A):\n",
    "    length=len(A)\n",
    "    for i in range(0,length-1):\n",
    "        for j in range(i+1,length):\n",
    "            while A[j]<A[i]:\n",
    "                tmp=A[j]\n",
    "                A[j]=A[i]\n",
    "                A[i]=tmp\n",
    "        print(A)\n",
    "    return A"
   ]
  },
  {
   "cell_type": "code",
   "execution_count": 74,
   "metadata": {},
   "outputs": [
    {
     "name": "stdout",
     "output_type": "stream",
     "text": [
      "[1, 5, 4, 6, 2, 3]\n",
      "[1, 2, 5, 6, 4, 3]\n",
      "[1, 2, 3, 6, 5, 4]\n",
      "[1, 2, 3, 4, 6, 5]\n",
      "[1, 2, 3, 4, 5, 6]\n"
     ]
    },
    {
     "data": {
      "text/plain": [
       "[1, 2, 3, 4, 5, 6]"
      ]
     },
     "execution_count": 74,
     "metadata": {},
     "output_type": "execute_result"
    }
   ],
   "source": [
    "l=[5,2,4,6,1,3]\n",
    "selection(l)"
   ]
  },
  {
   "cell_type": "markdown",
   "metadata": {},
   "source": [
    "## bubble sort"
   ]
  },
  {
   "cell_type": "code",
   "execution_count": 1,
   "metadata": {},
   "outputs": [],
   "source": [
    "def bubble(A):\n",
    "    n=len(A)\n",
    "    \n",
    "    for i in range(n-1):\n",
    "        for j in range(n-i-1):\n",
    "            if A[j] > A[j+1]:\n",
    "                A[j],A[j+1]=A[j+1],A[j]\n",
    "    return A\n"
   ]
  },
  {
   "cell_type": "code",
   "execution_count": 2,
   "metadata": {},
   "outputs": [
    {
     "data": {
      "text/plain": [
       "[1, 2, 3, 4, 5, 6]"
      ]
     },
     "execution_count": 2,
     "metadata": {},
     "output_type": "execute_result"
    }
   ],
   "source": [
    "A=[5,2,4,6,1,3]\n",
    "bubble(A)"
   ]
  },
  {
   "cell_type": "markdown",
   "metadata": {},
   "source": [
    "## merge sort"
   ]
  },
  {
   "cell_type": "markdown",
   "metadata": {},
   "source": [
    "The key operation of the merge sort is the merging of two sorted sequence in the \"combine\" step. Assume there are two arrays A[p..q] and A[q+1..r] where p<=q<r. The final result would be a sorted array A[p..r]."
   ]
  },
  {
   "cell_type": "code",
   "execution_count": 15,
   "metadata": {},
   "outputs": [],
   "source": [
    "def Merge(A,p,q,r):\n",
    "    \n",
    "    L=A[p:q+1]\n",
    "    R=A[q+1:r+1]\n",
    "    i=0\n",
    "    j=0\n",
    "    k=p\n",
    "    while i<len(L) and j<len(R):\n",
    "        if L[i] < R[j]:\n",
    "            A[k]=L[i]\n",
    "            i+=1\n",
    "        else:\n",
    "            A[k]=R[j]\n",
    "            j+=1\n",
    "        k+=1\n",
    "    while i<len(L):\n",
    "        A[k]=L[i]\n",
    "        i+=1\n",
    "        k+=1\n",
    "    return A\n",
    "            "
   ]
  },
  {
   "cell_type": "code",
   "execution_count": 16,
   "metadata": {},
   "outputs": [],
   "source": [
    "def Merge_sort(A,p,r):\n",
    "    if p<r:\n",
    "        q=(p+r)//2\n",
    "        Merge_sort(A,p,q)\n",
    "        Merge_sort(A,q+1,r)\n",
    "        Merge(A,p,q,r)\n",
    "    return A"
   ]
  },
  {
   "cell_type": "code",
   "execution_count": 17,
   "metadata": {},
   "outputs": [
    {
     "data": {
      "text/plain": [
       "[1, 1, 2, 3, 3]"
      ]
     },
     "execution_count": 17,
     "metadata": {},
     "output_type": "execute_result"
    }
   ],
   "source": [
    "A=[1,3,2,3,1]     \n",
    "Merge_sort(A,0,len(A)-1)"
   ]
  },
  {
   "cell_type": "markdown",
   "metadata": {},
   "source": [
    "## exercise: find the inversion pairs\n",
    "\n",
    "Let A[1..n] be an array of n distinct numbers. If i<j and A[i]>A[j],then pair(i,j) is called an inversion of A.\n",
    "For example, A=(2,3,8,6,1), There are 5 inversions (0,4),(1,4),(2,4),(3,4),(2,3)"
   ]
  },
  {
   "cell_type": "code",
   "execution_count": 205,
   "metadata": {},
   "outputs": [],
   "source": [
    "def modify_merge(A,p,q,r):\n",
    "    \n",
    "    L=A[p:q+1]\n",
    "    R=A[q+1:r+1]\n",
    "    i=0\n",
    "    j=0\n",
    "    k=p\n",
    "    inv=0\n",
    "    while i < len(L) and j < len(R):\n",
    "        if L[i] <= R[j]:\n",
    "            A[k]=L[i]\n",
    "            i+=1\n",
    "        else:\n",
    "            A[k]=R[j]\n",
    "            j+=1\n",
    "            inv+=(len(L)-i)\n",
    "            \n",
    "        k+=1\n",
    "  \n",
    "    if j==len(R):\n",
    "        A[k:r+1]=L[i:]\n",
    "    return inv\n",
    "    "
   ]
  },
  {
   "cell_type": "code",
   "execution_count": 206,
   "metadata": {},
   "outputs": [],
   "source": [
    "def inversion(A,p,r):\n",
    "    inv=0\n",
    "    \n",
    "    if p<r:\n",
    "        q=(p+r)//2\n",
    "        inv+=inversion(A,p,q)\n",
    "        inv+=inversion(A,q+1,r)\n",
    "        inv+=modify_merge(A,p,q,r)\n",
    "    \n",
    "    return inv\n",
    "\n",
    "    "
   ]
  },
  {
   "cell_type": "code",
   "execution_count": 207,
   "metadata": {},
   "outputs": [
    {
     "data": {
      "text/plain": [
       "4"
      ]
     },
     "execution_count": 207,
     "metadata": {},
     "output_type": "execute_result"
    }
   ],
   "source": [
    "A=[1,3,2,3,1]     \n",
    "inversion(A,0,len(A)-1)"
   ]
  },
  {
   "cell_type": "markdown",
   "metadata": {},
   "source": [
    "## heapsort \n",
    "Using max-heaps for the heapsort algorithm.\n",
    "In max-heaps,the parent nodes always larger than children node.\n",
    "\n",
    "* Parent(i): return (i-1//2)\n",
    "* Left(i): return 2i+1\n",
    "* Right(i):return 2i+2"
   ]
  },
  {
   "cell_type": "code",
   "execution_count": 150,
   "metadata": {},
   "outputs": [],
   "source": [
    "\n",
    "heap_size = 0\n",
    "\n",
    "# for heap structure\n",
    "def parent(i):\n",
    "    return (i-1)//2\n",
    "\n",
    "def left(i):\n",
    "    return 2*i+1\n",
    "\n",
    "def right(i):\n",
    "    return 2*i+2"
   ]
  },
  {
   "cell_type": "code",
   "execution_count": 116,
   "metadata": {},
   "outputs": [],
   "source": [
    "#maintaining the heap property, A is an array , i is an index\n",
    "\n",
    "def max_heapify(A,i):\n",
    "    global heap_size\n",
    "    \n",
    "    l=left(i)\n",
    "    r=right(i)\n",
    "    largest=i\n",
    "    if l< heap_size and A[l] > A[i]:\n",
    "        largest=l\n",
    "    else:\n",
    "        largest=i\n",
    "    if r< heap_size and A[r] > A[largest]:\n",
    "        largest=r\n",
    "    if largest != i:\n",
    "        tmp=A[i]\n",
    "        A[i]=A[largest]\n",
    "        A[largest]=tmp\n",
    "        max_heapify(A,largest)\n",
    "        "
   ]
  },
  {
   "cell_type": "code",
   "execution_count": 162,
   "metadata": {},
   "outputs": [],
   "source": [
    "# min heap\n",
    "def min_heapify(A,i):\n",
    "    global heap_size\n",
    "   \n",
    "    l=left(i)\n",
    "    r=right(i)\n",
    "    smallest=i\n",
    "    if l<heap_size and A[l] < A[i]:\n",
    "        smallest=l\n",
    "    else:\n",
    "        smallest=i\n",
    "        \n",
    "    if r<heap_size and A[r] < A[smallest]:\n",
    "        smallest=r\n",
    "    if smallest != i:\n",
    "        tmp=A[i]\n",
    "        A[i]=A[smallest]\n",
    "        A[smallest]=tmp\n",
    "        min_heapify(A,smallest)"
   ]
  },
  {
   "cell_type": "code",
   "execution_count": 158,
   "metadata": {},
   "outputs": [],
   "source": [
    "# build the min heap\n",
    "def build_minheap(A):\n",
    "    global heap_size\n",
    "    heap_size=len(A)\n",
    "    for i in range (heap_size//2-1,-1,-1):\n",
    "        min_heapify(A,i)"
   ]
  },
  {
   "cell_type": "code",
   "execution_count": 159,
   "metadata": {},
   "outputs": [
    {
     "data": {
      "text/plain": [
       "[1, 2, 3, 4, 7, 9, 10, 14, 8, 16]"
      ]
     },
     "execution_count": 159,
     "metadata": {},
     "output_type": "execute_result"
    }
   ],
   "source": [
    "A=[4,1,3,2,16,9,10,14,8,7]\n",
    "build_minheap(A)\n",
    "A"
   ]
  },
  {
   "cell_type": "code",
   "execution_count": 117,
   "metadata": {},
   "outputs": [],
   "source": [
    "def build_maxheap(A):\n",
    "    global heap_size\n",
    "    heap_size=len(A)\n",
    "    for i in range (heap_size//2-1,-1,-1):\n",
    "        max_heapify(A,i)"
   ]
  },
  {
   "cell_type": "code",
   "execution_count": 172,
   "metadata": {},
   "outputs": [
    {
     "data": {
      "text/plain": [
       "[16, 14, 10, 8, 7, 9, 3, 2, 4, 1]"
      ]
     },
     "execution_count": 172,
     "metadata": {},
     "output_type": "execute_result"
    }
   ],
   "source": [
    "A=[4,1,3,2,16,9,10,14,8,7]\n",
    "build_maxheap(A)\n",
    "A"
   ]
  },
  {
   "cell_type": "code",
   "execution_count": 121,
   "metadata": {},
   "outputs": [],
   "source": [
    "def heapsort(A):\n",
    "    global heap_size\n",
    "    build_maxheap(A)\n",
    "    for i in range(len(A)-1,0,-1):\n",
    "        tmp=A[i]\n",
    "        A[i]=A[0]\n",
    "        A[0]=tmp\n",
    "        heap_size-=1\n",
    "        max_heapify(A,0)\n",
    "        \n",
    "        "
   ]
  },
  {
   "cell_type": "code",
   "execution_count": 163,
   "metadata": {},
   "outputs": [],
   "source": [
    "def reverse_heapsort(A):\n",
    "    global heap_size\n",
    "    build_minheap(A)\n",
    "    for j in range(len(A)-1,0,-1):\n",
    "        tmp=A[j]\n",
    "        A[j]=A[0]\n",
    "        A[0]=tmp\n",
    "        heap_size-=1\n",
    "        min_heapify(A,0)"
   ]
  },
  {
   "cell_type": "code",
   "execution_count": 164,
   "metadata": {},
   "outputs": [
    {
     "name": "stdout",
     "output_type": "stream",
     "text": [
      "sorted: \n",
      "[1, 2, 3, 4, 7, 8, 9, 10, 14, 16]\n",
      "revsersed: \n",
      "[16, 14, 10, 9, 8, 7, 4, 3, 2, 1]\n"
     ]
    }
   ],
   "source": [
    "if __name__ == \"__main__\":\n",
    "    A=[4,1,3,2,16,9,10,14,8,7]\n",
    "    print (\"sorted: \")\n",
    "    heapsort(A)\n",
    "    print (A)\n",
    "    \n",
    "    print (\"revsersed: \")\n",
    "    reverse_heapsort(A)\n",
    "    print(A)"
   ]
  },
  {
   "cell_type": "markdown",
   "metadata": {},
   "source": [
    "## priority queues\n",
    "using heap\n"
   ]
  },
  {
   "cell_type": "code",
   "execution_count": 165,
   "metadata": {},
   "outputs": [],
   "source": [
    "def heap_maximum(A):\n",
    "    return A[0]"
   ]
  },
  {
   "cell_type": "code",
   "execution_count": 193,
   "metadata": {},
   "outputs": [],
   "source": [
    "def heap_extract_max(A):\n",
    "    global heap_size\n",
    "    \n",
    "    if heap_size < 1:\n",
    "        raise Exception(\"error: heap underflow\")\n",
    "    maximum=A[0]\n",
    "    A[0]=A[heap_size-1]\n",
    "    heap_size-=1\n",
    "    max_heapify(A,0)\n",
    "    return maximum\n",
    "    "
   ]
  },
  {
   "cell_type": "code",
   "execution_count": 186,
   "metadata": {},
   "outputs": [],
   "source": [
    "def heap_increase_key(A,i,key):\n",
    "    if key < A[i]:\n",
    "        raise Exception(\"error: new key is smaller than current key\")\n",
    "    A[i]=key\n",
    "    while i>0 and A[parent(i)] < A[i]:\n",
    "        A[i],A[parent(i)]=A[parent(i)],A[i]\n",
    "        i=parent(i)"
   ]
  },
  {
   "cell_type": "code",
   "execution_count": 211,
   "metadata": {},
   "outputs": [],
   "source": [
    "def max_heap_insert(A,key):\n",
    "    global heap_size\n",
    "    heap_size+=1\n",
    "    A.append(float('-inf'))\n",
    "    heap_increase_key(A,heap_size-1,key)"
   ]
  },
  {
   "cell_type": "code",
   "execution_count": 212,
   "metadata": {},
   "outputs": [
    {
     "name": "stdout",
     "output_type": "stream",
     "text": [
      "The max heap is:  [16, 14, 10, 8, 7, 9, 3, 2, 4, 1]\n",
      "The maximum element is:  16\n",
      "Extract the maximum: 16\n",
      "after the extraction:  [14, 8, 10, 4, 7, 9, 3, 2, 1]\n",
      "Increase A[8] to 15:  [16, 15, 10, 14, 7, 9, 3, 2, 8, 1]\n",
      "After insertion:  [20, 16, 10, 8, 14, 9, 3, 2, 4, 1, 7]\n"
     ]
    }
   ],
   "source": [
    "if __name__ == \"__main__\":\n",
    "    A=[4,1,3,2,16,9,10,14,8,7]\n",
    "    build_maxheap(A)\n",
    "    \n",
    "    print(\"The max heap is: \",A)\n",
    "    print(\"The maximum element is: \",heap_maximum(A))\n",
    "    print(\"Extract the maximum:\",heap_extract_max(A))\n",
    "    print(\"after the extraction: \",A[:-1])\n",
    "    A=[4,1,3,2,16,9,10,14,8,7]\n",
    "    build_maxheap(A)\n",
    "    heap_increase_key(A,8,15)\n",
    "    print(\"Increase A[8] to 15: \",A)\n",
    "    \n",
    "    A=[4,1,3,2,16,9,10,14,8,7]\n",
    "    build_maxheap(A)\n",
    "    max_heap_insert(A,20)\n",
    "    print(\"After insertion 20: \",A)"
   ]
  },
  {
   "cell_type": "markdown",
   "metadata": {},
   "source": [
    "## Quick Sort\n",
    "\n",
    "* dividing A[p..r] into A[p..q-1] and A[q+1..r] where A[p]<=A[q]<=A[r]\n",
    "* sort two subarrays\n",
    "* combine\n"
   ]
  },
  {
   "cell_type": "code",
   "execution_count": 230,
   "metadata": {},
   "outputs": [],
   "source": [
    "# inplace sort for array\n",
    "def partition(A,low,high):\n",
    "    x=A[high]\n",
    "    i=low-1\n",
    "    j=low\n",
    "    while j<high:\n",
    "        if A[j]<= x:\n",
    "            i+=1\n",
    "            A[i],A[j]=A[j],A[i]\n",
    "        j+=1\n",
    "    A[i+1],A[high]=A[high],A[i+1]\n",
    "    \n",
    "    return i+1"
   ]
  },
  {
   "cell_type": "code",
   "execution_count": 231,
   "metadata": {},
   "outputs": [],
   "source": [
    "def quicksort(A,low,high):\n",
    "    if low<high:\n",
    "        q=partition(A,low,high)\n",
    "        quicksort(A,low,q-1)\n",
    "        quicksort(A,low+1,high)"
   ]
  },
  {
   "cell_type": "code",
   "execution_count": 232,
   "metadata": {},
   "outputs": [
    {
     "data": {
      "text/plain": [
       "[1, 2, 3, 4, 5, 6, 7]"
      ]
     },
     "execution_count": 232,
     "metadata": {},
     "output_type": "execute_result"
    }
   ],
   "source": [
    "A=[4,1,5,2,7,3,6]\n",
    "quicksort(A,0,len(A)-1)\n",
    "A"
   ]
  }
 ],
 "metadata": {
  "kernelspec": {
   "display_name": "Python 3",
   "language": "python",
   "name": "python3"
  },
  "language_info": {
   "codemirror_mode": {
    "name": "ipython",
    "version": 3
   },
   "file_extension": ".py",
   "mimetype": "text/x-python",
   "name": "python",
   "nbconvert_exporter": "python",
   "pygments_lexer": "ipython3",
   "version": "3.8.5"
  }
 },
 "nbformat": 4,
 "nbformat_minor": 2
}
