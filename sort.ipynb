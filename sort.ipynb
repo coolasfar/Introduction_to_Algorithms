{
 "cells": [
  {
   "cell_type": "markdown",
   "metadata": {},
   "source": [
    "# Algorithms for sorting"
   ]
  },
  {
   "cell_type": "markdown",
   "metadata": {},
   "source": [
    "## insertion sort"
   ]
  },
  {
   "cell_type": "code",
   "execution_count": 2,
   "metadata": {},
   "outputs": [],
   "source": [
    "def insert_sort(A):\n",
    "    length=len(A)\n",
    "    for j in range(1,length):\n",
    "        key=A[j]\n",
    "        i=j-1\n",
    "        while i>-1 and A[i]>key:\n",
    "            A[i+1]=A[i]\n",
    "            i=i-1\n",
    "        A[i+1]=key\n",
    "        print (j,\": \",A)\n",
    "    return A"
   ]
  },
  {
   "cell_type": "code",
   "execution_count": 3,
   "metadata": {},
   "outputs": [
    {
     "name": "stdout",
     "output_type": "stream",
     "text": [
      "1 :  [31, 41, 59, 26, 41, 58]\n",
      "2 :  [31, 41, 59, 26, 41, 58]\n",
      "3 :  [26, 31, 41, 59, 41, 58]\n",
      "4 :  [26, 31, 41, 41, 59, 58]\n",
      "5 :  [26, 31, 41, 41, 58, 59]\n"
     ]
    },
    {
     "data": {
      "text/plain": [
       "[26, 31, 41, 41, 58, 59]"
      ]
     },
     "execution_count": 3,
     "metadata": {},
     "output_type": "execute_result"
    }
   ],
   "source": [
    "l=[31,41,59,26,41,58]\n",
    "insert_sort(l)"
   ]
  },
  {
   "cell_type": "markdown",
   "metadata": {},
   "source": [
    "insertion sort analysis-time complexity\n",
    "assume array has n elements\n",
    "```python\n",
    "def insert_sort(A):                             cost   times\n",
    "    length=len(A)               \n",
    "    for j in range(1,length):           -->     c1      n    \n",
    "        key=A[j]                        -->     c2      n-1\n",
    "        i=j-1                           -->     c3      n-1\n",
    "        while i>-1 and A[i]>key:        -->     c4      `$\\sum_{j = 1}^{n} t(j)$`\n",
    "            A[i+1]=A[i]                 -->     c5      `$\\sum_{j = 1}^{n} t(j)-1$`\n",
    "            i=i-1                       -->     c6      `$\\sum_{j = 1}^{n} t(j)-1$`\n",
    "        A[i+1]=key                      -->     c7      n-1\n",
    "\n",
    "    return A\n",
    "```\n",
    "Total time: T(n) =c1n+c2(n-1)+c3(n-1)+c4(n(n+1)/2 -1)+(c5+c6)(n(n-1)/2)+c7(n-1) = $an^{2} + bn + c$\n"
   ]
  },
  {
   "cell_type": "code",
   "execution_count": 66,
   "metadata": {},
   "outputs": [],
   "source": [
    "def reverse_insert(A):\n",
    "    length=len(A)\n",
    "    for j in range(1,length):\n",
    "        k=A[j]\n",
    "        i=j-1\n",
    "        while i>-1 and k>A[i]:\n",
    "            A[i+1]=A[i]\n",
    "            i=i-1\n",
    "        A[i+1]=k\n",
    "    return A"
   ]
  },
  {
   "cell_type": "code",
   "execution_count": 67,
   "metadata": {},
   "outputs": [
    {
     "data": {
      "text/plain": [
       "[59, 58, 41, 41, 31, 26]"
      ]
     },
     "execution_count": 67,
     "metadata": {},
     "output_type": "execute_result"
    }
   ],
   "source": [
    "reverse_insert(l)"
   ]
  },
  {
   "cell_type": "markdown",
   "metadata": {},
   "source": [
    "## selection sort"
   ]
  },
  {
   "cell_type": "code",
   "execution_count": 72,
   "metadata": {},
   "outputs": [],
   "source": [
    "def selection(A):\n",
    "    length=len(A)\n",
    "    for i in range(0,length-1):\n",
    "        for j in range(i+1,length):\n",
    "            while A[j]<A[i]:\n",
    "                tmp=A[j]\n",
    "                A[j]=A[i]\n",
    "                A[i]=tmp\n",
    "        print(A)\n",
    "    return A"
   ]
  },
  {
   "cell_type": "code",
   "execution_count": 74,
   "metadata": {},
   "outputs": [
    {
     "name": "stdout",
     "output_type": "stream",
     "text": [
      "[1, 5, 4, 6, 2, 3]\n",
      "[1, 2, 5, 6, 4, 3]\n",
      "[1, 2, 3, 6, 5, 4]\n",
      "[1, 2, 3, 4, 6, 5]\n",
      "[1, 2, 3, 4, 5, 6]\n"
     ]
    },
    {
     "data": {
      "text/plain": [
       "[1, 2, 3, 4, 5, 6]"
      ]
     },
     "execution_count": 74,
     "metadata": {},
     "output_type": "execute_result"
    }
   ],
   "source": [
    "l=[5,2,4,6,1,3]\n",
    "selection(l)"
   ]
  },
  {
   "cell_type": "markdown",
   "metadata": {},
   "source": [
    "## merge sort"
   ]
  },
  {
   "cell_type": "markdown",
   "metadata": {},
   "source": [
    "The key operation of the merge sort is the merging of two sorted sequence in the \"combine\" step. Assume there are two arrays A[p..q] and A[q+1..r] where p<=q<r. The final result would be a sorted array A[p..r]."
   ]
  },
  {
   "cell_type": "code",
   "execution_count": 15,
   "metadata": {},
   "outputs": [],
   "source": [
    "def Merge(A,p,q,r):\n",
    "    \n",
    "    L=A[p:q+1]\n",
    "    R=A[q+1:r+1]\n",
    "    i=0\n",
    "    j=0\n",
    "    k=p\n",
    "    while i<len(L) and j<len(R):\n",
    "        if L[i] < R[j]:\n",
    "            A[k]=L[i]\n",
    "            i+=1\n",
    "        else:\n",
    "            A[k]=R[j]\n",
    "            j+=1\n",
    "        k+=1\n",
    "    while i<len(L):\n",
    "        A[k]=L[i]\n",
    "        i+=1\n",
    "        k+=1\n",
    "    return A\n",
    "            "
   ]
  },
  {
   "cell_type": "code",
   "execution_count": 16,
   "metadata": {},
   "outputs": [],
   "source": [
    "def Merge_sort(A,p,r):\n",
    "    if p<r:\n",
    "        q=(p+r)//2\n",
    "        Merge_sort(A,p,q)\n",
    "        Merge_sort(A,q+1,r)\n",
    "        Merge(A,p,q,r)\n",
    "    return A"
   ]
  },
  {
   "cell_type": "code",
   "execution_count": 17,
   "metadata": {},
   "outputs": [
    {
     "data": {
      "text/plain": [
       "[1, 1, 2, 3, 3]"
      ]
     },
     "execution_count": 17,
     "metadata": {},
     "output_type": "execute_result"
    }
   ],
   "source": [
    "A=[1,3,2,3,1]     \n",
    "Merge_sort(A,0,len(A)-1)"
   ]
  },
  {
   "cell_type": "markdown",
   "metadata": {},
   "source": [
    "## exercise: find the inversion pairs\n",
    "\n",
    "Let A[1..n] be an array of n distinct numbers. If i<j and A[i]>A[j],then pair(i,j) is called an inversion of A.\n",
    "For example, A=(2,3,8,6,1), There are 5 inversions (0,4),(1,4),(2,4),(3,4),(2,3)"
   ]
  },
  {
   "cell_type": "code",
   "execution_count": 205,
   "metadata": {},
   "outputs": [],
   "source": [
    "def modify_merge(A,p,q,r):\n",
    "    \n",
    "    L=A[p:q+1]\n",
    "    R=A[q+1:r+1]\n",
    "    i=0\n",
    "    j=0\n",
    "    k=p\n",
    "    inv=0\n",
    "    while i < len(L) and j < len(R):\n",
    "        if L[i] <= R[j]:\n",
    "            A[k]=L[i]\n",
    "            i+=1\n",
    "        else:\n",
    "            A[k]=R[j]\n",
    "            j+=1\n",
    "            inv+=(len(L)-i)\n",
    "            \n",
    "        k+=1\n",
    "  \n",
    "    if j==len(R):\n",
    "        A[k:r+1]=L[i:]\n",
    "    return inv\n",
    "    "
   ]
  },
  {
   "cell_type": "code",
   "execution_count": 206,
   "metadata": {},
   "outputs": [],
   "source": [
    "def inversion(A,p,r):\n",
    "    inv=0\n",
    "    \n",
    "    if p<r:\n",
    "        q=(p+r)//2\n",
    "        inv+=inversion(A,p,q)\n",
    "        inv+=inversion(A,q+1,r)\n",
    "        inv+=modify_merge(A,p,q,r)\n",
    "    \n",
    "    return inv\n",
    "\n",
    "    "
   ]
  },
  {
   "cell_type": "code",
   "execution_count": 207,
   "metadata": {},
   "outputs": [
    {
     "data": {
      "text/plain": [
       "4"
      ]
     },
     "execution_count": 207,
     "metadata": {},
     "output_type": "execute_result"
    }
   ],
   "source": [
    "A=[1,3,2,3,1]     \n",
    "inversion(A,0,len(A)-1)"
   ]
  },
  {
   "cell_type": "code",
   "execution_count": 11,
   "metadata": {},
   "outputs": [],
   "source": [
    "#the maximum subarray (crossing)\n",
    "def find_max_crossing(A,low,mid,high):\n",
    "    #find the maximum left subarray\n",
    "    left_sum=float('-inf')\n",
    "    s=0\n",
    "    max_left=0\n",
    "    for i in range(mid,low,-1):\n",
    "        s+=A[i]\n",
    "        if s > left_sum:\n",
    "            left_sum=s\n",
    "            max_left=i\n",
    "            \n",
    "    #find the maximum right subarrary\n",
    "    right_sum=float('-inf')\n",
    "    s=0\n",
    "    max_right=0\n",
    "    for j in range(mid+1,high):\n",
    "        s+=A[j]\n",
    "        if s > right_sum:\n",
    "            right_sum = s\n",
    "            max_right=j\n",
    "    \n",
    "    return max_left,max_right,left_sum+right_sum\n",
    "\n",
    "    \n",
    "    "
   ]
  },
  {
   "cell_type": "code",
   "execution_count": 12,
   "metadata": {},
   "outputs": [],
   "source": [
    "#the maximum subarray\n",
    "def find_max_subarray(A,low,high):\n",
    "    if high==low:\n",
    "        return low,high,A[low]\n",
    "    else:\n",
    "        mid=(low+high)//2\n",
    "        left_low,left_high,left_sum=find_max_subarray(A,low,mid)\n",
    "        \n",
    "        right_low,right_high,right_sum=find_max_subarray(A,mid+1,high)\n",
    "        \n",
    "        cross_low,cross_high,cross_sum=find_max_crossing(A,low,mid,high)\n",
    "        \n",
    "        if left_sum >=right_sum and left_sum >= cross_sum:\n",
    "            return left_low,left_high,left_sum\n",
    "        elif right_sum >= left_sum and right_sum >= cross_sum:\n",
    "            return right_low,right_high,right_sum\n",
    "        else:\n",
    "            return cross_low,cross_high,cross_sum"
   ]
  },
  {
   "cell_type": "code",
   "execution_count": 13,
   "metadata": {},
   "outputs": [
    {
     "data": {
      "text/plain": [
       "(7, 10, 43)"
      ]
     },
     "execution_count": 13,
     "metadata": {},
     "output_type": "execute_result"
    }
   ],
   "source": [
    "A=[13,-3,-25,20,-3,-16,-23,18,20,-7,12,-5,-22,15,-4,7]\n",
    "find_max_subarray(A,0,len(A)-1)"
   ]
  },
  {
   "cell_type": "code",
   "execution_count": 69,
   "metadata": {},
   "outputs": [
    {
     "name": "stdout",
     "output_type": "stream",
     "text": [
      "[1, 2, 3, 4, 5, 6, 7]\n"
     ]
    }
   ],
   "source": [
    "A=[1,3,4,6,7,5,4,3,2,1]\n",
    "print(sort(A))"
   ]
  },
  {
   "cell_type": "code",
   "execution_count": null,
   "metadata": {},
   "outputs": [],
   "source": []
  }
 ],
 "metadata": {
  "kernelspec": {
   "display_name": "Python 3",
   "language": "python",
   "name": "python3"
  },
  "language_info": {
   "codemirror_mode": {
    "name": "ipython",
    "version": 3
   },
   "file_extension": ".py",
   "mimetype": "text/x-python",
   "name": "python",
   "nbconvert_exporter": "python",
   "pygments_lexer": "ipython3",
   "version": "3.6.3"
  }
 },
 "nbformat": 4,
 "nbformat_minor": 2
}
