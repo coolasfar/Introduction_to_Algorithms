{
 "cells": [
  {
   "cell_type": "markdown",
   "metadata": {},
   "source": [
    "## cut-rod problem\n",
    "\n",
    "&nbsp;*Length i* | 1 2 3 4 &nbsp;5 &nbsp;6 &nbsp;&nbsp;7 &nbsp; 8 &nbsp; 9  &nbsp; 10|\n",
    "<br />\n",
    "&nbsp;*price &nbsp;p* &nbsp;| 1 5 8 9 10 17 17 20 24 30|"
   ]
  },
  {
   "cell_type": "code",
   "execution_count": 31,
   "metadata": {},
   "outputs": [],
   "source": [
    "# an inefficient way\n",
    "def cut_rod(p,n):\n",
    "    if n == 0:\n",
    "        return 0\n",
    "    q=float('-inf')\n",
    "    for i in range(n):\n",
    "        q=max(q,p[i]+cut_rod(p,n-i-1))\n",
    "    return q"
   ]
  },
  {
   "cell_type": "code",
   "execution_count": 58,
   "metadata": {},
   "outputs": [
    {
     "name": "stdout",
     "output_type": "stream",
     "text": [
      "The max price for length 1:  1\n",
      "The max price for length 2:  5\n",
      "The max price for length 3:  8\n",
      "The max price for length 4:  10\n",
      "The max price for length 5:  13\n",
      "The max price for length 6:  17\n",
      "The max price for length 7:  18\n",
      "The max price for length 8:  22\n",
      "The max price for length 9:  25\n",
      "The max price for length 10:  30\n"
     ]
    }
   ],
   "source": [
    "p=[1,5,8,9,10,17,17,20,24,30]\n",
    "\n",
    "for i in range(1,len(p)+1):\n",
    "    print(f\"The max price for length {i}: \", cut_rod(p,i))\n"
   ]
  },
  {
   "cell_type": "code",
   "execution_count": 46,
   "metadata": {},
   "outputs": [],
   "source": [
    "# using dp top-down with memorization\n",
    "def memoized_cut_rod(p,n):\n",
    "    r=[float('-inf')]*n\n",
    "    return memoized_cut_rod_aux(p,n,r)\n",
    "\n",
    "def memoized_cut_rod_aux(p,n,r):\n",
    "    if r[n-1] >= 0:\n",
    "        return r[n-1]\n",
    "    if n == 0:\n",
    "        q=0\n",
    "    else:\n",
    "        q=float('-inf')\n",
    "        for i in range(n):\n",
    "            q=max(q,p[i]+memoized_cut_rod_aux(p,n-i-1,r))\n",
    "    r[n-1]=q\n",
    "    return q"
   ]
  },
  {
   "cell_type": "code",
   "execution_count": 47,
   "metadata": {},
   "outputs": [
    {
     "name": "stdout",
     "output_type": "stream",
     "text": [
      "The max price for length 1:  1\n",
      "The max price for length 2:  5\n",
      "The max price for length 3:  8\n",
      "The max price for length 4:  10\n",
      "The max price for length 5:  13\n",
      "The max price for length 6:  17\n",
      "The max price for length 7:  18\n",
      "The max price for length 8:  22\n",
      "The max price for length 9:  25\n",
      "The max price for length 10:  30\n"
     ]
    }
   ],
   "source": [
    "for i in range(1,len(p)+1):\n",
    "    print(f\"The max price for length {i}: \", memoized_cut_rod(p,i))"
   ]
  },
  {
   "cell_type": "code",
   "execution_count": 144,
   "metadata": {},
   "outputs": [],
   "source": [
    "# bottom up cut rod\n",
    "def bottom_up_cut(p,n):\n",
    "    r=[0]*n\n",
    "    for i in range(1,n):\n",
    "        q=float('-inf')\n",
    "        for j in range(i+1):\n",
    "            q=max(q,p[j]+r[i-j-1])\n",
    "        r[i] = q\n",
    "    \n",
    "    return r[n-1]"
   ]
  },
  {
   "cell_type": "code",
   "execution_count": 145,
   "metadata": {},
   "outputs": [
    {
     "name": "stdout",
     "output_type": "stream",
     "text": [
      "25\n"
     ]
    }
   ],
   "source": [
    "print(bottom_up_cut(p,9))"
   ]
  },
  {
   "cell_type": "code",
   "execution_count": 151,
   "metadata": {},
   "outputs": [],
   "source": [
    "# also print the length of first piece\n",
    "def extended_bottom_up(p,n):\n",
    "    r=[0]*n\n",
    "    s=[0]*n\n",
    "    \n",
    "    for i in range(1,n):\n",
    "        q=float('-inf')\n",
    "        for j in range(i+1):\n",
    "            if q < p[j]+r[i-j-1]:\n",
    "                q=p[j]+r[i-j-1]\n",
    "                s[i] = j\n",
    "        r[i]=q\n",
    "        \n",
    "    return r,s"
   ]
  },
  {
   "cell_type": "code",
   "execution_count": 152,
   "metadata": {},
   "outputs": [
    {
     "name": "stdout",
     "output_type": "stream",
     "text": [
      "([0, 5, 8, 10, 13, 17, 18, 22, 25, 30], [0, 1, 2, 1, 1, 5, 0, 1, 2, 9])\n"
     ]
    }
   ],
   "source": [
    "print(extended_bottom_up(p,10))"
   ]
  },
  {
   "cell_type": "markdown",
   "metadata": {},
   "source": [
    "## matrix-chain multiplication\n"
   ]
  },
  {
   "cell_type": "code",
   "execution_count": 218,
   "metadata": {},
   "outputs": [],
   "source": [
    "def matrix_multiply(A,B):\n",
    "    Arow=len(A)\n",
    "    Acolumn=len(A[0])\n",
    "    Brow=len(B)\n",
    "    Bcolumn=len(B[0])\n",
    "    C=[[0 for col in range(Bcolumn)] for row in range(Arow)]\n",
    "    if Acolumn != Brow:\n",
    "        raise IndexError(\"error: incompatible dimensions\")\n",
    "    \n",
    "    for i in range(Arow):\n",
    "        for j in range(Bcolumn):\n",
    "            C[i][j]=0\n",
    "            for k in range(Acolumn):\n",
    "                C[i][j]+=A[i][k]*B[k][j]\n",
    "    return C"
   ]
  },
  {
   "cell_type": "code",
   "execution_count": 219,
   "metadata": {},
   "outputs": [
    {
     "data": {
      "text/plain": [
       "[[114, 160, 60, 27], [74, 97, 73, 14], [119, 157, 112, 23]]"
      ]
     },
     "execution_count": 219,
     "metadata": {},
     "output_type": "execute_result"
    }
   ],
   "source": [
    "A=[[12,7,3],\n",
    "    [4,5,6],\n",
    "    [7,8,9]]\n",
    "B=[[5,8,1,2],\n",
    "    [6,7,3,0],\n",
    "    [4,5,9,1]]\n",
    "matrix_multiply(A,B)"
   ]
  },
  {
   "cell_type": "markdown",
   "metadata": {},
   "source": [
    "if A is p x q and B is q x r, C is p x r. The time to compute C is p . q . r  <br />\n",
    "for example, we want to multiply a matrix chain <A1, A2, A3>. Suppose the dimensions of the matrices are 10x100,100x5,and 5x50,respectively.\n",
    "1. case1: ((A1A2)A3). The time is 10.100.5+10.5.50=7500\n",
    "2. case2: (A1(A2A3)). The time is 100.5.50+10.100.50=75000\n",
    "<br />\n",
    "**case1 is 10 times faster than case2!**"
   ]
  },
  {
   "cell_type": "markdown",
   "metadata": {},
   "source": [
    "## Matrix-chain multiplication problem\n",
    "The m-c multiplication problem: given a chain <A1,A2,...,An> , where for i = 1,2,..n,matrix Ai has dimension pi-1 x pi,fully parenthesize the product A1,A2..An in a way that minimizes the number of scalar multiplications (such as 7500 is better than 75000)"
   ]
  },
  {
   "cell_type": "markdown",
   "metadata": {},
   "source": [
    "## Applying dynamic programming\n",
    "1. Charecterize the structure of an optimal solution\n",
    "2. Recursively define the value of an optimal solution\n",
    "3. Compute the value of an optimal solution\n",
    "4. Construct an optimal solution from computed information"
   ]
  },
  {
   "cell_type": "code",
   "execution_count": 13,
   "metadata": {},
   "outputs": [],
   "source": [
    "def newTable(row,col):\n",
    "    M=[[0 for c in range(col)] for r in range(row)]\n",
    "    return M\n",
    "    \n",
    "def matrix_chain_order(p):\n",
    "    n=len(p)\n",
    "    m=newTable(n,n)\n",
    "    s=newTable(n,n)\n",
    "   \n",
    "    for  l in range(2,n):\n",
    "        for i in range(1,n-l+1):\n",
    "            j=i+l-1\n",
    "            m[i][j]=float('inf')\n",
    "            for k in range(i,j):\n",
    "                q=m[i][k]+m[k+1][j]+p[i-1]*p[k]*p[j]\n",
    "                if q < m[i][j]:\n",
    "                    m[i][j]=q\n",
    "                    s[i][j]=k\n",
    "    \n",
    "    return m,s"
   ]
  },
  {
   "cell_type": "code",
   "execution_count": 14,
   "metadata": {},
   "outputs": [
    {
     "name": "stdout",
     "output_type": "stream",
     "text": [
      "([[0, 0, 0, 0, 0, 0, 0], [0, 0, 15750, 7875, 9375, 11875, 15125], [0, 0, 0, 2625, 4375, 7125, 10500], [0, 0, 0, 0, 750, 2500, 5375], [0, 0, 0, 0, 0, 1000, 3500], [0, 0, 0, 0, 0, 0, 5000], [0, 0, 0, 0, 0, 0, 0]], [[0, 0, 0, 0, 0, 0, 0], [0, 0, 1, 1, 3, 3, 3], [0, 0, 0, 2, 3, 3, 3], [0, 0, 0, 0, 3, 3, 3], [0, 0, 0, 0, 0, 4, 5], [0, 0, 0, 0, 0, 0, 5], [0, 0, 0, 0, 0, 0, 0]])\n"
     ]
    }
   ],
   "source": [
    "p=[30,35,15,5,10,20,25]\n",
    "print(matrix_chain_order(p))"
   ]
  },
  {
   "cell_type": "code",
   "execution_count": 19,
   "metadata": {},
   "outputs": [],
   "source": [
    "def print_optimal_solution(s,i,j):\n",
    "    if i == j:\n",
    "        print(\"A\"+str(i),end=\" \")\n",
    "    else:\n",
    "        print(\"(\",end=\" \")\n",
    "        print_optimal_solution(s,i,s[i][j])\n",
    "        print_optimal_solution(s,s[i][j]+1,j)\n",
    "        print(\")\",end=\" \")\n",
    "def main():\n",
    "    #  A1=30x35, A2=35x15,A3=15x5,...,A6=20x25\n",
    "    p=[30,35,15,5,10,20,25]\n",
    "    n=len(p)\n",
    "    m,s=matrix_chain_order(p)\n",
    "    \n",
    "    print(\"Number of operation: \"+str(m[1][n-1]))\n",
    "    print_optimal_solution(s,1,n-1)"
   ]
  },
  {
   "cell_type": "code",
   "execution_count": 20,
   "metadata": {},
   "outputs": [
    {
     "name": "stdout",
     "output_type": "stream",
     "text": [
      "Number of operation: 15125\n",
      "( ( A1 ( A2 A3 ) ) ( ( A4 A5 ) A6 ) ) "
     ]
    }
   ],
   "source": [
    "if __name__ == \"__main__\":\n",
    "    main()"
   ]
  },
  {
   "cell_type": "markdown",
   "metadata": {},
   "source": [
    "## Longest Common Subsequence(LCS)\n",
    "\n",
    "if X=(A,B,C,B,D,A,B), Y=(B,D,C,A,B,A). the sequence(B,C,A) is a common sequence for X,Y,but not the longest. (B,C,B,A) is LCS"
   ]
  },
  {
   "cell_type": "code",
   "execution_count": 43,
   "metadata": {},
   "outputs": [],
   "source": [
    "def LCS_length(x,y):\n",
    "    m=len(x)\n",
    "    n=len(y)\n",
    "    \n",
    "    b=[[0 for _ in range(n+1)]for _ in range(m+1)]\n",
    "    c=[[0 for _ in range(n+1)]for _ in range(m+1)]\n",
    "    \n",
    "    for i in range(m):\n",
    "        for j in range(n):\n",
    "            if x[i]== y[j]:\n",
    "                c[i+1][j+1]=c[i][j]+1\n",
    "                b[i+1][j+1]='UP_LEFT'\n",
    "            elif c[i][j+1] >= c[i+1][j]:\n",
    "                c[i+1][j+1]=c[i][j+1]\n",
    "                b[i+1][j+1]='UP'\n",
    "            else:\n",
    "                c[i+1][j+1]=c[i+1][j]\n",
    "                b[i+1][j+1]='LEFT'\n",
    "    return c,b\n",
    "def print_LCS(b,x,i,j):\n",
    "    \n",
    "    if i==0 or j==0:\n",
    "        return ''\n",
    "    if b[i][j] == 'UP_LEFT':\n",
    "        return str(print_LCS(b,x,i-1,j-1))+str(x[i-1])\n",
    "        \n",
    "    elif b[i][j] == 'UP':\n",
    "        return str(print_LCS(b,x,i-1,j))\n",
    "    else:\n",
    "        return str(print_LCS(b,x,i,j-1))\n",
    "    "
   ]
  },
  {
   "cell_type": "code",
   "execution_count": 46,
   "metadata": {},
   "outputs": [
    {
     "name": "stdout",
     "output_type": "stream",
     "text": [
      "The LCS is  BCBA , with length  4\n"
     ]
    }
   ],
   "source": [
    "if __name__ == \"__main__\":\n",
    "    x='ABCBDAB'\n",
    "    y='BDCABA'\n",
    "    c,b=LCS_length(x,y)\n",
    "    print(\"The LCS is \",print_LCS(b,x,len(x),len(y)),\", with length \",len(print_LCS(b,x,len(x),len(y))))"
   ]
  },
  {
   "cell_type": "code",
   "execution_count": 90,
   "metadata": {},
   "outputs": [],
   "source": [
    "# simplified version\n",
    "def LCS(x,y):\n",
    "    m=len(x)\n",
    "    n=len(y)\n",
    "    \n",
    "    dp=[[0 for _ in range(n+1)]for _ in range(m+1)]\n",
    "    \n",
    "    for i in range(1,m+1):\n",
    "        for j in range(1,n+1):\n",
    "            if x[i-1]==y[j-1]:\n",
    "                dp[i][j]=dp[i-1][j-1]+1\n",
    "            else:\n",
    "                dp[i][j]=max(dp[i][j-1],dp[i-1][j])\n",
    "    return dp\n",
    "\n",
    "def print_LCS(dp,x,y,i,j):\n",
    "    if dp[i][j]==0:\n",
    "        return ''\n",
    "    if x[i-1] == y[j-1]:\n",
    "        return str(print_LCS(dp,x,y,i-1,j-1))+str(x[i-1])\n",
    "    elif c[i-1][j] > c[i][j-1]:\n",
    "        return str(print_LCS(dp,x,y,i-1,j))\n",
    "    else:\n",
    "        return str(print_LCS(dp,x,y,i,j-1))\n",
    "                   "
   ]
  },
  {
   "cell_type": "code",
   "execution_count": 91,
   "metadata": {},
   "outputs": [
    {
     "name": "stdout",
     "output_type": "stream",
     "text": [
      "The LCS is  BDAB , with length  4\n"
     ]
    }
   ],
   "source": [
    "if __name__ == \"__main__\":\n",
    "    x='ABCBDAB'\n",
    "    y='BDCABA'\n",
    "    dp=LCS(x,y)\n",
    "    print(\"The LCS is \",print_LCS(dp,x,y,len(x),len(y)),\", with length \",len(print_LCS(dp,x,y,len(x),len(y))))"
   ]
  },
  {
   "cell_type": "code",
   "execution_count": null,
   "metadata": {},
   "outputs": [],
   "source": []
  }
 ],
 "metadata": {
  "kernelspec": {
   "display_name": "Python 3",
   "language": "python",
   "name": "python3"
  },
  "language_info": {
   "codemirror_mode": {
    "name": "ipython",
    "version": 3
   },
   "file_extension": ".py",
   "mimetype": "text/x-python",
   "name": "python",
   "nbconvert_exporter": "python",
   "pygments_lexer": "ipython3",
   "version": "3.6.3"
  }
 },
 "nbformat": 4,
 "nbformat_minor": 4
}
