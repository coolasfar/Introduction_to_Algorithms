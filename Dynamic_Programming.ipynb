{
 "cells": [
  {
   "cell_type": "markdown",
   "metadata": {},
   "source": [
    "## cut-rod problem\n",
    "\n",
    "&nbsp;*Length i* | 1 2 3 4 &nbsp;5 &nbsp;6 &nbsp;&nbsp;7 &nbsp; 8 &nbsp; 9  &nbsp; 10|\n",
    "<br />\n",
    "&nbsp;*price &nbsp;p* &nbsp;| 1 5 8 9 10 17 17 20 24 30|"
   ]
  },
  {
   "cell_type": "code",
   "execution_count": 31,
   "metadata": {},
   "outputs": [],
   "source": [
    "# an inefficient way\n",
    "def cut_rod(p,n):\n",
    "    if n == 0:\n",
    "        return 0\n",
    "    q=float('-inf')\n",
    "    for i in range(n):\n",
    "        q=max(q,p[i]+cut_rod(p,n-i-1))\n",
    "    return q"
   ]
  },
  {
   "cell_type": "code",
   "execution_count": 58,
   "metadata": {},
   "outputs": [
    {
     "name": "stdout",
     "output_type": "stream",
     "text": [
      "The max price for length 1:  1\n",
      "The max price for length 2:  5\n",
      "The max price for length 3:  8\n",
      "The max price for length 4:  10\n",
      "The max price for length 5:  13\n",
      "The max price for length 6:  17\n",
      "The max price for length 7:  18\n",
      "The max price for length 8:  22\n",
      "The max price for length 9:  25\n",
      "The max price for length 10:  30\n"
     ]
    }
   ],
   "source": [
    "p=[1,5,8,9,10,17,17,20,24,30]\n",
    "\n",
    "for i in range(1,len(p)+1):\n",
    "    print(f\"The max price for length {i}: \", cut_rod(p,i))\n"
   ]
  },
  {
   "cell_type": "code",
   "execution_count": 46,
   "metadata": {},
   "outputs": [],
   "source": [
    "# using dp top-down with memorization\n",
    "def memoized_cut_rod(p,n):\n",
    "    r=[float('-inf')]*n\n",
    "    return memoized_cut_rod_aux(p,n,r)\n",
    "\n",
    "def memoized_cut_rod_aux(p,n,r):\n",
    "    if r[n-1] >= 0:\n",
    "        return r[n-1]\n",
    "    if n == 0:\n",
    "        q=0\n",
    "    else:\n",
    "        q=float('-inf')\n",
    "        for i in range(n):\n",
    "            q=max(q,p[i]+memoized_cut_rod_aux(p,n-i-1,r))\n",
    "    r[n-1]=q\n",
    "    return q"
   ]
  },
  {
   "cell_type": "code",
   "execution_count": 47,
   "metadata": {},
   "outputs": [
    {
     "name": "stdout",
     "output_type": "stream",
     "text": [
      "The max price for length 1:  1\n",
      "The max price for length 2:  5\n",
      "The max price for length 3:  8\n",
      "The max price for length 4:  10\n",
      "The max price for length 5:  13\n",
      "The max price for length 6:  17\n",
      "The max price for length 7:  18\n",
      "The max price for length 8:  22\n",
      "The max price for length 9:  25\n",
      "The max price for length 10:  30\n"
     ]
    }
   ],
   "source": [
    "for i in range(1,len(p)+1):\n",
    "    print(f\"The max price for length {i}: \", memoized_cut_rod(p,i))"
   ]
  },
  {
   "cell_type": "code",
   "execution_count": 144,
   "metadata": {},
   "outputs": [],
   "source": [
    "# bottom up cut rod\n",
    "def bottom_up_cut(p,n):\n",
    "    r=[0]*n\n",
    "    for i in range(1,n):\n",
    "        q=float('-inf')\n",
    "        for j in range(i+1):\n",
    "            q=max(q,p[j]+r[i-j-1])\n",
    "        r[i] = q\n",
    "    \n",
    "    return r[n-1]"
   ]
  },
  {
   "cell_type": "code",
   "execution_count": 145,
   "metadata": {},
   "outputs": [
    {
     "name": "stdout",
     "output_type": "stream",
     "text": [
      "25\n"
     ]
    }
   ],
   "source": [
    "print(bottom_up_cut(p,9))"
   ]
  },
  {
   "cell_type": "code",
   "execution_count": 146,
   "metadata": {},
   "outputs": [],
   "source": [
    "# also print the length of first piece\n",
    "def extended_bottom_up(p,n):\n",
    "    r=[0]*n\n",
    "    s=[0]*n\n",
    "    \n",
    "    for i in range(1,n):\n",
    "        q=float('-inf')\n",
    "        for j in range(i+1):\n",
    "            if q < p[j]+r[i-j-1]:\n",
    "                q=p[j]+r[i-j-1]\n",
    "                s[i] = j\n",
    "        r[i]=q\n",
    "        \n",
    "    return r,s"
   ]
  },
  {
   "cell_type": "code",
   "execution_count": 148,
   "metadata": {},
   "outputs": [
    {
     "name": "stdout",
     "output_type": "stream",
     "text": [
      "([0, 5, 8, 10, 13, 17, 18, 22, 25, 30], [0, 1, 2, 1, 1, 5, 0, 1, 2, 9])\n"
     ]
    }
   ],
   "source": [
    "print(extended_bottom_up(p,10))"
   ]
  },
  {
   "cell_type": "code",
   "execution_count": null,
   "metadata": {},
   "outputs": [],
   "source": []
  }
 ],
 "metadata": {
  "kernelspec": {
   "display_name": "Python 3",
   "language": "python",
   "name": "python3"
  },
  "language_info": {
   "codemirror_mode": {
    "name": "ipython",
    "version": 3
   },
   "file_extension": ".py",
   "mimetype": "text/x-python",
   "name": "python",
   "nbconvert_exporter": "python",
   "pygments_lexer": "ipython3",
   "version": "3.8.5"
  }
 },
 "nbformat": 4,
 "nbformat_minor": 4
}
