{
 "cells": [
  {
   "cell_type": "markdown",
   "metadata": {},
   "source": [
    "## cut-rod problem\n",
    "\n",
    "&nbsp;*Length i* | 1 2 3 4 &nbsp;5 &nbsp;6 &nbsp;&nbsp;7 &nbsp; 8 &nbsp; 9  &nbsp; 10|\n",
    "<br />\n",
    "&nbsp;*price &nbsp;p* &nbsp;| 1 5 8 9 10 17 17 20 24 30|"
   ]
  },
  {
   "cell_type": "code",
   "execution_count": 3,
   "metadata": {},
   "outputs": [],
   "source": [
    "def cut_rod(p,n):\n",
    "    if n == 0:\n",
    "        return 0\n",
    "    q=float('-inf')\n",
    "    for i in range(n):\n",
    "        q=max(q,p[i]+cut_rod(p,n-i-1))\n",
    "    return q"
   ]
  },
  {
   "cell_type": "code",
   "execution_count": 10,
   "metadata": {},
   "outputs": [
    {
     "name": "stdout",
     "output_type": "stream",
     "text": [
      "The max price for length 1:  1\n",
      "The max price for length 2:  5\n",
      "The max price for length 3:  8\n",
      "The max price for length 4:  10\n",
      "The max price for length 5:  13\n",
      "The max price for length 6:  17\n",
      "The max price for length 7:  18\n",
      "The max price for length 8:  22\n",
      "The max price for length 9:  25\n",
      "The max price for length 10:  30\n"
     ]
    }
   ],
   "source": [
    "p=[1,5,8,9,10,17,17,20,24,30]\n",
    "for i in range(1,len(p)+1):\n",
    "    print(f\"The max price for length {i}: \", cut_rod(p,i))"
   ]
  },
  {
   "cell_type": "code",
   "execution_count": null,
   "metadata": {},
   "outputs": [],
   "source": []
  }
 ],
 "metadata": {
  "kernelspec": {
   "display_name": "Python 3",
   "language": "python",
   "name": "python3"
  },
  "language_info": {
   "codemirror_mode": {
    "name": "ipython",
    "version": 3
   },
   "file_extension": ".py",
   "mimetype": "text/x-python",
   "name": "python",
   "nbconvert_exporter": "python",
   "pygments_lexer": "ipython3",
   "version": "3.8.5"
  }
 },
 "nbformat": 4,
 "nbformat_minor": 4
}
