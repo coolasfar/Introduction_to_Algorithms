{
 "cells": [
  {
   "cell_type": "markdown",
   "metadata": {},
   "source": [
    "## Breadth-first Search"
   ]
  },
  {
   "cell_type": "code",
   "execution_count": 17,
   "metadata": {},
   "outputs": [],
   "source": [
    "def bfs(graph,source,target=None):\n",
    "    visited=[]\n",
    "    queue=[source]\n",
    "    visited.append(source)\n",
    "    \n",
    "    while queue: # if queue is not empty\n",
    "        s=queue.pop(0)\n",
    "        print(s,end=' ')\n",
    "        \n",
    "        for neighbors in graph[s]:\n",
    "            if neighbors not in visited:\n",
    "                visited.append(neighbors)\n",
    "                queue.append(neighbors)\n",
    "                \n",
    "        if target != None and target == s:\n",
    "            break"
   ]
  },
  {
   "cell_type": "code",
   "execution_count": 42,
   "metadata": {},
   "outputs": [
    {
     "name": "stdout",
     "output_type": "stream",
     "text": [
      "A B C D E "
     ]
    }
   ],
   "source": [
    "if __name__ == \"__main__\":\n",
    "    graph = {\n",
    "              'A' : ['B','C'],\n",
    "              'B' : ['D', 'E'],\n",
    "              'C' : ['F'],\n",
    "              'D' : [],\n",
    "              'E' : ['F'],\n",
    "              'F' : []\n",
    "            }\n",
    "    bfs(graph,'A','E')"
   ]
  },
  {
   "cell_type": "markdown",
   "metadata": {},
   "source": [
    "The run time for bfs is O(V+E)"
   ]
  },
  {
   "cell_type": "code",
   "execution_count": 5,
   "metadata": {},
   "outputs": [],
   "source": [
    "class Graph(object):\n",
    "    def __init__(self,graph):\n",
    "        self.graph=graph\n",
    "    def __str__(self):\n",
    "        string=''\n",
    "        for index, lst in sorted(self.graph.items()):\n",
    "            strnode = \",\".join([str(i) for i in lst])\n",
    "            string += \"node {}: {}\\n\".format(index, strnode)\n",
    "        return string[:-1]\n",
    "    def bfs(self,source,target=None):\n",
    "        visited=[]\n",
    "        queue=[source]\n",
    "        visited.append(source)\n",
    "\n",
    "        while queue: # if queue is not empty\n",
    "            s=queue.pop(0)\n",
    "\n",
    "            for neighbors in self.graph[s]:\n",
    "                if neighbors not in visited:\n",
    "                    visited.append(neighbors)\n",
    "                    queue.append(neighbors)\n",
    "\n",
    "            if target != None and target == s:\n",
    "                break\n",
    "        return visited\n",
    "    \n",
    "    def bfs_path(self,source,target): # print path between two nodes\n",
    "        bfs_path=self.bfs(source,target)\n",
    "        if source == target:\n",
    "            return [source]\n",
    "        elif len(bfs_path)==1:\n",
    "            return [float('inf')]\n",
    "        else:\n",
    "            if source==bfs_path[0] and target==bfs_path[-1]:\n",
    "                return bfs_path\n",
    "            else:\n",
    "                return [float('inf')]\n",
    "            "
   ]
  },
  {
   "cell_type": "code",
   "execution_count": 8,
   "metadata": {},
   "outputs": [
    {
     "name": "stdout",
     "output_type": "stream",
     "text": [
      "Show Graph:\n",
      "node A: B,C\n",
      "node B: D,E\n",
      "node C: F\n",
      "node D: \n",
      "node E: F\n",
      "node F: \n",
      "\n",
      "visited nodes:  ['A', 'B', 'C', 'D', 'E', 'F']\n",
      "The path from A to F is:  ['A', 'B', 'C', 'D', 'E', 'F']\n"
     ]
    }
   ],
   "source": [
    "if __name__ in '__main__':\n",
    "    graph = {\n",
    "              'A' : ['B','C'],\n",
    "              'B' : ['D', 'E'],\n",
    "              'C' : ['F'],\n",
    "              'D' : [],\n",
    "              'E' : ['F'],\n",
    "              'F' : []\n",
    "            }\n",
    "    GRAPH = Graph(graph)\n",
    "    print(\"Show Graph:\\n{}\\n\".format(GRAPH))\n",
    "    print(\"visited nodes: \",GRAPH.bfs('A','F'))\n",
    "    print(\"The path from A to F is: \",GRAPH.bfs_path('A','F'))"
   ]
  }
 ],
 "metadata": {
  "kernelspec": {
   "display_name": "Python 3",
   "language": "python",
   "name": "python3"
  },
  "language_info": {
   "codemirror_mode": {
    "name": "ipython",
    "version": 3
   },
   "file_extension": ".py",
   "mimetype": "text/x-python",
   "name": "python",
   "nbconvert_exporter": "python",
   "pygments_lexer": "ipython3",
   "version": "3.8.5"
  }
 },
 "nbformat": 4,
 "nbformat_minor": 2
}
