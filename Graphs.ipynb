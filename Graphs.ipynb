{
 "cells": [
  {
   "cell_type": "markdown",
   "metadata": {},
   "source": [
    "## Breadth-first Search"
   ]
  },
  {
   "cell_type": "code",
   "execution_count": 17,
   "metadata": {},
   "outputs": [],
   "source": [
    "def bfs(graph,source,target=None):\n",
    "    visited=[]\n",
    "    queue=[source]\n",
    "    visited.append(source)\n",
    "    \n",
    "    while queue: # if queue is not empty\n",
    "        s=queue.pop(0)\n",
    "        print(s,end=' ')\n",
    "        \n",
    "        for neighbors in graph[s]:\n",
    "            if neighbors not in visited:\n",
    "                visited.append(neighbors)\n",
    "                queue.append(neighbors)\n",
    "                \n",
    "        if target != None and target == s:\n",
    "            break"
   ]
  },
  {
   "cell_type": "code",
   "execution_count": 42,
   "metadata": {
    "scrolled": true
   },
   "outputs": [
    {
     "name": "stdout",
     "output_type": "stream",
     "text": [
      "A B C D E "
     ]
    }
   ],
   "source": [
    "if __name__ == \"__main__\":\n",
    "    graph = {\n",
    "              'A' : ['B','C'],\n",
    "              'B' : ['D', 'E'],\n",
    "              'C' : ['F'],\n",
    "              'D' : [],\n",
    "              'E' : ['F'],\n",
    "              'F' : []\n",
    "            }\n",
    "    bfs(graph,'A','E')"
   ]
  },
  {
   "cell_type": "markdown",
   "metadata": {},
   "source": [
    "The run time for bfs is O(V+E)"
   ]
  },
  {
   "cell_type": "code",
   "execution_count": 5,
   "metadata": {},
   "outputs": [],
   "source": [
    "class Graph(object):\n",
    "    def __init__(self,graph):\n",
    "        self.graph=graph\n",
    "    def __str__(self):\n",
    "        string=''\n",
    "        for index, lst in sorted(self.graph.items()):\n",
    "            strnode = \",\".join([str(i) for i in lst])\n",
    "            string += \"node {}: {}\\n\".format(index, strnode)\n",
    "        return string[:-1]\n",
    "    def bfs(self,source,target=None):\n",
    "        visited=[]\n",
    "        queue=[source]\n",
    "        visited.append(source)\n",
    "\n",
    "        while queue: # if queue is not empty\n",
    "            s=queue.pop(0)\n",
    "\n",
    "            for neighbors in self.graph[s]:\n",
    "                if neighbors not in visited:\n",
    "                    visited.append(neighbors)\n",
    "                    queue.append(neighbors)\n",
    "\n",
    "            if target != None and target == s:\n",
    "                break\n",
    "        return visited\n",
    "    \n",
    "    def bfs_path(self,source,target): # print path between two nodes\n",
    "        bfs_path=self.bfs(source,target)\n",
    "        if source == target:\n",
    "            return [source]\n",
    "        elif len(bfs_path)==1:\n",
    "            return [float('inf')]\n",
    "        else:\n",
    "            if source==bfs_path[0] and target==bfs_path[-1]:\n",
    "                return bfs_path\n",
    "            else:\n",
    "                return [float('inf')]\n",
    "            "
   ]
  },
  {
   "cell_type": "code",
   "execution_count": 8,
   "metadata": {
    "scrolled": false
   },
   "outputs": [
    {
     "name": "stdout",
     "output_type": "stream",
     "text": [
      "Show Graph:\n",
      "node A: B,C\n",
      "node B: D,E\n",
      "node C: F\n",
      "node D: \n",
      "node E: F\n",
      "node F: \n",
      "\n",
      "visited nodes:  ['A', 'B', 'C', 'D', 'E', 'F']\n",
      "The path from A to F is:  ['A', 'B', 'C', 'D', 'E', 'F']\n"
     ]
    }
   ],
   "source": [
    "if __name__ in '__main__':\n",
    "    graph = {\n",
    "              'A' : ['B','C'],\n",
    "              'B' : ['D', 'E'],\n",
    "              'C' : ['F'],\n",
    "              'D' : [],\n",
    "              'E' : ['F'],\n",
    "              'F' : []\n",
    "            }\n",
    "    GRAPH = Graph(graph)\n",
    "    print(\"Show Graph:\\n{}\\n\".format(GRAPH))\n",
    "    print(\"visited nodes: \",GRAPH.bfs('A','F'))\n",
    "    print(\"The path from A to F is: \",GRAPH.bfs_path('A','F'))"
   ]
  },
  {
   "cell_type": "markdown",
   "metadata": {},
   "source": [
    "## Depth-first Search"
   ]
  },
  {
   "cell_type": "code",
   "execution_count": 63,
   "metadata": {},
   "outputs": [],
   "source": [
    "#recursive\n",
    "def dfs(graph,visited,source):\n",
    "    if source not in visited:\n",
    "        print(source)\n",
    "        visited.add(source)\n",
    "        for neighbors in graph[source]:\n",
    "            dfs(graph,visited,neighbors)"
   ]
  },
  {
   "cell_type": "code",
   "execution_count": 64,
   "metadata": {
    "scrolled": false
   },
   "outputs": [
    {
     "name": "stdout",
     "output_type": "stream",
     "text": [
      "A\n",
      "B\n",
      "D\n",
      "E\n",
      "F\n",
      "C\n"
     ]
    }
   ],
   "source": [
    "visited=set()\n",
    "graph = {\n",
    "              'A' : ['B','C'],\n",
    "              'B' : ['D', 'E'],\n",
    "              'C' : ['F'],\n",
    "              'D' : [],\n",
    "              'E' : ['F'],\n",
    "              'F' : []\n",
    "        }\n",
    "dfs(graph,visited,'A')"
   ]
  },
  {
   "cell_type": "code",
   "execution_count": 67,
   "metadata": {},
   "outputs": [],
   "source": [
    "# non-recursive\n",
    "def dfs(graph,source):\n",
    "    if source == None or source not in graph:\n",
    "        return \"invalid input\"\n",
    "    visited=[]\n",
    "    stack=[source]\n",
    "    while stack:\n",
    "        s=stack.pop()\n",
    "        if s not in visited:\n",
    "            visited.append(s)\n",
    "            \n",
    "        if s not in graph:\n",
    "            continue\n",
    "        for neighbors in graph[s]:\n",
    "            stack.append(neighbors)\n",
    "            \n",
    "    return \" \".join(visited)\n",
    "            "
   ]
  },
  {
   "cell_type": "code",
   "execution_count": 68,
   "metadata": {},
   "outputs": [
    {
     "data": {
      "text/plain": [
       "'A C F B E D'"
      ]
     },
     "execution_count": 68,
     "metadata": {},
     "output_type": "execute_result"
    }
   ],
   "source": [
    "graph = {\n",
    "              'A' : ['B','C'],\n",
    "              'B' : ['D', 'E'],\n",
    "              'C' : ['F'],\n",
    "              'D' : [],\n",
    "              'E' : ['F'],\n",
    "              'F' : []\n",
    "        }\n",
    "dfs(graph,'A')"
   ]
  },
  {
   "cell_type": "markdown",
   "metadata": {},
   "source": [
    "## minimum spanning tree"
   ]
  },
  {
   "cell_type": "code",
   "execution_count": 69,
   "metadata": {},
   "outputs": [],
   "source": [
    "#kruskal  always find the smallest edges\n",
    "class Graph:\n",
    "    def __init__(self, nodes, dependencies):\n",
    "        self.nodes = nodes\n",
    "        self.dependencies = dependencies\n",
    "        self.parent = {}\n",
    "        self.rank = {}\n",
    "\n",
    "    def __str__(self):\n",
    "        \"\"\" string representation of the graph \"\"\"\n",
    "        string = ''\n",
    "        for node in sorted(self.nodes):\n",
    "            strnode = [\"{} -> {} ({})\".format(start, end, w)\n",
    "                       for w, start, end in self.dependencies if start == node]\n",
    "            string += \"node {}: {}\\n\".format(node, \" \".join(strnode))\n",
    "        return string[:-1]\n",
    "    \n",
    "    \n",
    "    def find(self, edge):\n",
    "        \"\"\" for current edge return parent edge \"\"\"\n",
    "        if self.parent[edge] != edge:\n",
    "            self.parent[edge] = self.find(self.parent[edge])\n",
    "        return self.parent[edge]\n",
    "\n",
    "    def union(self, edge1, edge2):\n",
    "        \"\"\" union edge1 and edge2 into one tree \"\"\"\n",
    "        root1 = self.find(edge1)\n",
    "        root2 = self.find(edge2)\n",
    "        if root1 == root2:\n",
    "            return\n",
    "        if self.rank[root1] > self.rank[root2]:\n",
    "            self.parent[root2] = root1\n",
    "        else:\n",
    "            self.parent[root1] = root2\n",
    "            if self.rank[root1] == self.rank[root2]:\n",
    "                self.rank[root2] += 1\n",
    "                \n",
    "    def MST(self):\n",
    "        # make set\n",
    "        self.parent={node:node for node in self.nodes}\n",
    "        self.rank = {node: 0 for node in self.nodes}\n",
    "        # sort edges by weights\n",
    "        edges=self.dependencies\n",
    "        edges.sort()\n",
    "        \n",
    "        mst=set()\n",
    "        for weight,edge1,edge2 in edges:\n",
    "            if self.find(edge1) != self.find(edge2):\n",
    "                self.union(edge1,edge2)\n",
    "                mst.add((weight,edge1,edge2))\n",
    "        return mst"
   ]
  },
  {
   "cell_type": "code",
   "execution_count": 71,
   "metadata": {},
   "outputs": [
    {
     "name": "stdout",
     "output_type": "stream",
     "text": [
      "Show graph:\n",
      "node 0: 0 -> 4 (4) 0 -> 1 (8)\n",
      "node 1: 1 -> 5 (3)\n",
      "node 2: 2 -> 6 (6)\n",
      "node 3: \n",
      "node 4: 4 -> 2 (7)\n",
      "node 5: 5 -> 7 (7) 5 -> 6 (6) 5 -> 2 (8)\n",
      "node 6: \n",
      "node 7: \n",
      "\n",
      "Minimum spanning tree: {(4, 0, 4), (3, 1, 5), (6, 5, 6), (7, 5, 7), (7, 4, 2), (6, 2, 6)}\n"
     ]
    }
   ],
   "source": [
    "if __name__ in '__main__':\n",
    "    GRAPH_NODES = {0, 1, 2, 3, 4, 5, 6, 7}\n",
    "    # [(weight, node1, node2), ...]\n",
    "    GRAPH_DEPENDECIES = [(4, 0, 4), (7, 4, 2), (6, 2, 6), (8, 0, 1),\n",
    "                         (3, 1, 5), (7, 5, 7), (6, 5, 6), (8, 5, 2)]\n",
    "    GRAPH = Graph(GRAPH_NODES, GRAPH_DEPENDECIES)\n",
    "    print(\"Show graph:\\n{}\\n\".format(GRAPH))\n",
    "    print(\"Minimum spanning tree: {}\".format(GRAPH.MST()))"
   ]
  },
  {
   "cell_type": "markdown",
   "metadata": {},
   "source": [
    "## Dijkstra\n",
    "The single-source shortest path"
   ]
  },
  {
   "cell_type": "code",
   "execution_count": 72,
   "metadata": {},
   "outputs": [],
   "source": [
    "def dijkstra(edges,source,target):\n",
    "    # graph = {source node : (destination,weight)}\n",
    "    graph={}\n",
    "    for src,dest,weight in edges:\n",
    "        if src not in graph:\n",
    "            graph[src]=[]\n",
    "        graph[src].append((dest,weight))\n",
    "    # queue= [ weight,source,path from source]\n",
    "    queue=[(0,source,[source])]\n",
    "    # initialize visited node  {visited: (cost,path)}\n",
    "    visited=dict()\n",
    "    \n",
    "    while queue:\n",
    "        cost,src,path=queue.pop()\n",
    "        if src not in visited:\n",
    "            visited[src]=(cost,path)\n",
    "            \n",
    "        if src==target:\n",
    "            return cost,path\n",
    "        \n",
    "        min_weight, min_dest, min_path = float('Inf'), None, None\n",
    "        \n",
    "        #loop all visited nodes\n",
    "        for src_,(cost_,path_) in visited.items():\n",
    "            for dest,weight in graph.get(src_,()):\n",
    "                if dest in visited:\n",
    "                    continue\n",
    "                current_cost=cost_+weight\n",
    "                if current_cost < min_weight:\n",
    "                    min_weight, min_dest, min_path = current_cost, dest, path_\n",
    "                    \n",
    "        if min_dest is not None:\n",
    "            path=min_path+[min_dest]\n",
    "            queue.insert(0,(min_weight,min_dest,path))\n",
    "    return float('Inf'), []\n",
    "            \n",
    "            \n",
    "    "
   ]
  },
  {
   "cell_type": "code",
   "execution_count": 73,
   "metadata": {},
   "outputs": [
    {
     "name": "stdout",
     "output_type": "stream",
     "text": [
      "Length of the path from 's' to 'z' = 2, (True)\n",
      "Path from 's' to 'z': ['s', 't', 'z']\n",
      "Length of the path from 'a' to 'z' = inf, (True)\n",
      "Path from 'a' to 'z': []\n",
      "Length of the path from 's' to 's' = 0, (True)\n",
      "Path from 's' to 's': ['s']\n"
     ]
    }
   ],
   "source": [
    "if __name__ == \"__main__\":\n",
    "    EDGES = [\n",
    "        ('s', 't', 6),\n",
    "        ('s', 'y', 7),\n",
    "        ('t', 'x', 5),\n",
    "        ('x', 't', -2),\n",
    "        ('t', 'y', 8),\n",
    "        ('y', 'z', 9),\n",
    "        ('y', 'x', -3),\n",
    "        ('t', 'z', -4),\n",
    "        ('z', 's', 2),\n",
    "        ('z', 'x', 7)\n",
    "    ]\n",
    "    for SRC, DEST, MINLEN in [\n",
    "        ('s', 'z', 2), ('a', 'z', float('Inf')), ('s', 's', 0)]:\n",
    "\n",
    "        LEN, PATH = dijkstra(EDGES, SRC, DEST)\n",
    "        print(\"Length of the path from '{}' to '{}' = {}, ({})\"\n",
    "            .format(SRC, DEST, LEN, LEN == MINLEN))\n",
    "        print(\"Path from '{}' to '{}': {}\".format(SRC, DEST, PATH))"
   ]
  },
  {
   "cell_type": "code",
   "execution_count": null,
   "metadata": {},
   "outputs": [],
   "source": []
  }
 ],
 "metadata": {
  "kernelspec": {
   "display_name": "Python 3",
   "language": "python",
   "name": "python3"
  },
  "language_info": {
   "codemirror_mode": {
    "name": "ipython",
    "version": 3
   },
   "file_extension": ".py",
   "mimetype": "text/x-python",
   "name": "python",
   "nbconvert_exporter": "python",
   "pygments_lexer": "ipython3",
   "version": "3.6.3"
  }
 },
 "nbformat": 4,
 "nbformat_minor": 2
}
